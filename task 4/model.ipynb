{
 "cells": [
  {
   "cell_type": "markdown",
   "metadata": {
    "id": "EMZ76_DOi0je"
   },
   "source": [
    "## Считывание данных"
   ]
  },
  {
   "cell_type": "code",
   "execution_count": 1472,
   "metadata": {
    "id": "YocvOof-jS5q"
   },
   "outputs": [],
   "source": [
    "# иморитирование всех необходимых библиотек\n",
    "import pandas as pd\n",
    "import seaborn as sns\n",
    "import matplotlib.pyplot as plt"
   ]
  },
  {
   "cell_type": "code",
   "execution_count": 1473,
   "metadata": {
    "colab": {
     "base_uri": "https://localhost:8080/"
    },
    "id": "vFZDDThQm13T",
    "outputId": "5271320d-c42e-4aa9-9ed1-de800b18af15"
   },
   "outputs": [
    {
     "name": "stdout",
     "output_type": "stream",
     "text": [
      "Train dataset shape: (309, 20)\n"
     ]
    }
   ],
   "source": [
    "# Считываем тренировочные данные\n",
    "train = pd.read_csv(\"train_oil.csv\")\n",
    "\n",
    "print(f\"Train dataset shape: {train.shape}\")"
   ]
  },
  {
   "cell_type": "code",
   "execution_count": 1474,
   "metadata": {
    "colab": {
     "base_uri": "https://localhost:8080/"
    },
    "id": "bFc8K8NCm24S",
    "outputId": "5216730f-b543-4383-f744-c847d29c6b76"
   },
   "outputs": [
    {
     "name": "stdout",
     "output_type": "stream",
     "text": [
      "Test dataset shape: (133, 19)\n"
     ]
    }
   ],
   "source": [
    "# Считываем тестовые данные\n",
    "test = pd.read_csv(\"oil_test.csv\")\n",
    "\n",
    "print(f\"Test dataset shape: {test.shape}\")"
   ]
  },
  {
   "cell_type": "code",
   "execution_count": 1475,
   "metadata": {
    "colab": {
     "base_uri": "https://localhost:8080/",
     "height": 461
    },
    "id": "AATl-jg1nV4o",
    "outputId": "569220b3-b597-41ef-dac6-4e6d8235118b"
   },
   "outputs": [
    {
     "data": {
      "text/html": [
       "<div>\n",
       "<style scoped>\n",
       "    .dataframe tbody tr th:only-of-type {\n",
       "        vertical-align: middle;\n",
       "    }\n",
       "\n",
       "    .dataframe tbody tr th {\n",
       "        vertical-align: top;\n",
       "    }\n",
       "\n",
       "    .dataframe thead th {\n",
       "        text-align: right;\n",
       "    }\n",
       "</style>\n",
       "<table border=\"1\" class=\"dataframe\">\n",
       "  <thead>\n",
       "    <tr style=\"text-align: right;\">\n",
       "      <th></th>\n",
       "      <th>Field name</th>\n",
       "      <th>Reservoir unit</th>\n",
       "      <th>Country</th>\n",
       "      <th>Region</th>\n",
       "      <th>Basin name</th>\n",
       "      <th>Tectonic regime</th>\n",
       "      <th>Latitude</th>\n",
       "      <th>Longitude</th>\n",
       "      <th>Operator company</th>\n",
       "      <th>Onshore/Offshore</th>\n",
       "      <th>Hydrocarbon type</th>\n",
       "      <th>Reservoir status</th>\n",
       "      <th>Structural setting</th>\n",
       "      <th>Depth</th>\n",
       "      <th>Reservoir period</th>\n",
       "      <th>Lithology</th>\n",
       "      <th>Thickness (gross average ft)</th>\n",
       "      <th>Thickness (net pay average ft)</th>\n",
       "      <th>Porosity</th>\n",
       "      <th>Permeability</th>\n",
       "    </tr>\n",
       "  </thead>\n",
       "  <tbody>\n",
       "    <tr>\n",
       "      <th>0</th>\n",
       "      <td>ZHIRNOV</td>\n",
       "      <td>MELEKESKIAN</td>\n",
       "      <td>RUSSIA</td>\n",
       "      <td>FORMER SOVIET UNION</td>\n",
       "      <td>VOLGA-URAL</td>\n",
       "      <td>COMPRESSION/EVAPORITE</td>\n",
       "      <td>51.0000</td>\n",
       "      <td>44.8042</td>\n",
       "      <td>NIZHNEVOLZHSKNET</td>\n",
       "      <td>ONSHORE</td>\n",
       "      <td>OIL</td>\n",
       "      <td>DECLINING PRODUCTION</td>\n",
       "      <td>FORELAND</td>\n",
       "      <td>1870</td>\n",
       "      <td>CARBONIFEROUS</td>\n",
       "      <td>SANDSTONE</td>\n",
       "      <td>262.0</td>\n",
       "      <td>33.0</td>\n",
       "      <td>24.0</td>\n",
       "      <td>30.0</td>\n",
       "    </tr>\n",
       "    <tr>\n",
       "      <th>1</th>\n",
       "      <td>LAGOA PARDA</td>\n",
       "      <td>LAGOA PARDA (URUCUTUCA)</td>\n",
       "      <td>BRAZIL</td>\n",
       "      <td>LATIN AMERICA</td>\n",
       "      <td>ESPIRITO SANTO</td>\n",
       "      <td>EXTENSION</td>\n",
       "      <td>-19.6017</td>\n",
       "      <td>-39.8332</td>\n",
       "      <td>PETROBRAS</td>\n",
       "      <td>ONSHORE</td>\n",
       "      <td>OIL</td>\n",
       "      <td>NEARLY DEPLETED</td>\n",
       "      <td>PASSIVE MARGIN</td>\n",
       "      <td>4843</td>\n",
       "      <td>PALEOGENE</td>\n",
       "      <td>SANDSTONE</td>\n",
       "      <td>2133.0</td>\n",
       "      <td>72.0</td>\n",
       "      <td>23.0</td>\n",
       "      <td>350.0</td>\n",
       "    </tr>\n",
       "    <tr>\n",
       "      <th>2</th>\n",
       "      <td>ABQAIQ</td>\n",
       "      <td>ARAB D</td>\n",
       "      <td>SAUDI ARABIA</td>\n",
       "      <td>MIDDLE EAST</td>\n",
       "      <td>THE GULF</td>\n",
       "      <td>COMPRESSION/EVAPORITE</td>\n",
       "      <td>26.0800</td>\n",
       "      <td>49.8100</td>\n",
       "      <td>SAUDI ARAMCO</td>\n",
       "      <td>ONSHORE</td>\n",
       "      <td>OIL</td>\n",
       "      <td>REJUVENATING</td>\n",
       "      <td>FORELAND</td>\n",
       "      <td>6050</td>\n",
       "      <td>JURASSIC</td>\n",
       "      <td>LIMESTONE</td>\n",
       "      <td>250.0</td>\n",
       "      <td>184.0</td>\n",
       "      <td>21.0</td>\n",
       "      <td>410.0</td>\n",
       "    </tr>\n",
       "    <tr>\n",
       "      <th>3</th>\n",
       "      <td>MURCHISON</td>\n",
       "      <td>BRENT</td>\n",
       "      <td>UK /NORWAY</td>\n",
       "      <td>EUROPE</td>\n",
       "      <td>NORTH SEA NORTHERN</td>\n",
       "      <td>EXTENSION</td>\n",
       "      <td>61.3833</td>\n",
       "      <td>1.7500</td>\n",
       "      <td>CNR</td>\n",
       "      <td>OFFSHORE</td>\n",
       "      <td>OIL</td>\n",
       "      <td>NEARLY DEPLETED</td>\n",
       "      <td>RIFT</td>\n",
       "      <td>8988</td>\n",
       "      <td>JURASSIC</td>\n",
       "      <td>SANDSTONE</td>\n",
       "      <td>425.0</td>\n",
       "      <td>300.0</td>\n",
       "      <td>22.0</td>\n",
       "      <td>750.0</td>\n",
       "    </tr>\n",
       "    <tr>\n",
       "      <th>4</th>\n",
       "      <td>WEST PEMBINA</td>\n",
       "      <td>NISKU (PEMBINA L POOL)</td>\n",
       "      <td>CANADA</td>\n",
       "      <td>NORTH AMERICA</td>\n",
       "      <td>WESTERN CANADA</td>\n",
       "      <td>COMPRESSION</td>\n",
       "      <td>53.2287</td>\n",
       "      <td>-115.8008</td>\n",
       "      <td>NUMEROUS</td>\n",
       "      <td>ONSHORE</td>\n",
       "      <td>OIL</td>\n",
       "      <td>UNKNOWN</td>\n",
       "      <td>FORELAND</td>\n",
       "      <td>9306</td>\n",
       "      <td>DEVONIAN</td>\n",
       "      <td>DOLOMITE</td>\n",
       "      <td>233.0</td>\n",
       "      <td>167.0</td>\n",
       "      <td>11.8</td>\n",
       "      <td>1407.0</td>\n",
       "    </tr>\n",
       "  </tbody>\n",
       "</table>\n",
       "</div>"
      ],
      "text/plain": [
       "     Field name           Reservoir unit       Country               Region  \\\n",
       "0       ZHIRNOV              MELEKESKIAN        RUSSIA  FORMER SOVIET UNION   \n",
       "1   LAGOA PARDA  LAGOA PARDA (URUCUTUCA)        BRAZIL        LATIN AMERICA   \n",
       "2        ABQAIQ                   ARAB D  SAUDI ARABIA          MIDDLE EAST   \n",
       "3     MURCHISON                    BRENT    UK /NORWAY               EUROPE   \n",
       "4  WEST PEMBINA   NISKU (PEMBINA L POOL)        CANADA        NORTH AMERICA   \n",
       "\n",
       "           Basin name        Tectonic regime  Latitude  Longitude  \\\n",
       "0          VOLGA-URAL  COMPRESSION/EVAPORITE   51.0000    44.8042   \n",
       "1      ESPIRITO SANTO              EXTENSION  -19.6017   -39.8332   \n",
       "2            THE GULF  COMPRESSION/EVAPORITE   26.0800    49.8100   \n",
       "3  NORTH SEA NORTHERN              EXTENSION   61.3833     1.7500   \n",
       "4      WESTERN CANADA            COMPRESSION   53.2287  -115.8008   \n",
       "\n",
       "   Operator company Onshore/Offshore Hydrocarbon type      Reservoir status  \\\n",
       "0  NIZHNEVOLZHSKNET          ONSHORE              OIL  DECLINING PRODUCTION   \n",
       "1         PETROBRAS          ONSHORE              OIL       NEARLY DEPLETED   \n",
       "2      SAUDI ARAMCO          ONSHORE              OIL          REJUVENATING   \n",
       "3               CNR         OFFSHORE              OIL       NEARLY DEPLETED   \n",
       "4          NUMEROUS          ONSHORE              OIL               UNKNOWN   \n",
       "\n",
       "  Structural setting  Depth Reservoir period  Lithology  \\\n",
       "0           FORELAND   1870    CARBONIFEROUS  SANDSTONE   \n",
       "1     PASSIVE MARGIN   4843        PALEOGENE  SANDSTONE   \n",
       "2           FORELAND   6050         JURASSIC  LIMESTONE   \n",
       "3               RIFT   8988         JURASSIC  SANDSTONE   \n",
       "4           FORELAND   9306         DEVONIAN   DOLOMITE   \n",
       "\n",
       "   Thickness (gross average ft)  Thickness (net pay average ft)  Porosity  \\\n",
       "0                         262.0                            33.0      24.0   \n",
       "1                        2133.0                            72.0      23.0   \n",
       "2                         250.0                           184.0      21.0   \n",
       "3                         425.0                           300.0      22.0   \n",
       "4                         233.0                           167.0      11.8   \n",
       "\n",
       "   Permeability  \n",
       "0          30.0  \n",
       "1         350.0  \n",
       "2         410.0  \n",
       "3         750.0  \n",
       "4        1407.0  "
      ]
     },
     "execution_count": 1475,
     "metadata": {},
     "output_type": "execute_result"
    }
   ],
   "source": [
    "# Посмотрим как выглядят данные\n",
    "train.head()"
   ]
  },
  {
   "cell_type": "code",
   "execution_count": 1476,
   "metadata": {},
   "outputs": [
    {
     "data": {
      "text/html": [
       "<div>\n",
       "<style scoped>\n",
       "    .dataframe tbody tr th:only-of-type {\n",
       "        vertical-align: middle;\n",
       "    }\n",
       "\n",
       "    .dataframe tbody tr th {\n",
       "        vertical-align: top;\n",
       "    }\n",
       "\n",
       "    .dataframe thead th {\n",
       "        text-align: right;\n",
       "    }\n",
       "</style>\n",
       "<table border=\"1\" class=\"dataframe\">\n",
       "  <thead>\n",
       "    <tr style=\"text-align: right;\">\n",
       "      <th></th>\n",
       "      <th>Field name</th>\n",
       "      <th>Reservoir unit</th>\n",
       "      <th>Country</th>\n",
       "      <th>Region</th>\n",
       "      <th>Basin name</th>\n",
       "      <th>Tectonic regime</th>\n",
       "      <th>Latitude</th>\n",
       "      <th>Longitude</th>\n",
       "      <th>Operator company</th>\n",
       "      <th>Hydrocarbon type</th>\n",
       "      <th>Reservoir status</th>\n",
       "      <th>Structural setting</th>\n",
       "      <th>Depth</th>\n",
       "      <th>Reservoir period</th>\n",
       "      <th>Lithology</th>\n",
       "      <th>Thickness (gross average ft)</th>\n",
       "      <th>Thickness (net pay average ft)</th>\n",
       "      <th>Porosity</th>\n",
       "      <th>Permeability</th>\n",
       "    </tr>\n",
       "  </thead>\n",
       "  <tbody>\n",
       "    <tr>\n",
       "      <th>0</th>\n",
       "      <td>ABU GHARADIG</td>\n",
       "      <td>BAHARIYA</td>\n",
       "      <td>EGYPT</td>\n",
       "      <td>AFRICA</td>\n",
       "      <td>ABU GHARADIG</td>\n",
       "      <td>EXTENSION</td>\n",
       "      <td>29.7422</td>\n",
       "      <td>28.4925</td>\n",
       "      <td>GUPCO</td>\n",
       "      <td>GAS-CONDENSATE</td>\n",
       "      <td>MATURE PRODUCTION</td>\n",
       "      <td>RIFT</td>\n",
       "      <td>10282</td>\n",
       "      <td>CRETACEOUS</td>\n",
       "      <td>SANDSTONE</td>\n",
       "      <td>745.0</td>\n",
       "      <td>144.0</td>\n",
       "      <td>10.0</td>\n",
       "      <td>8.0</td>\n",
       "    </tr>\n",
       "    <tr>\n",
       "      <th>1</th>\n",
       "      <td>ABU MADI-EL QARA</td>\n",
       "      <td>ABU MADI (LEVEL III)</td>\n",
       "      <td>EGYPT</td>\n",
       "      <td>AFRICA</td>\n",
       "      <td>NILE DELTA</td>\n",
       "      <td>STRIKE-SLIP/TRANSTENSION/SHALE/EVAPORITE/BASEM...</td>\n",
       "      <td>31.4382</td>\n",
       "      <td>31.3616</td>\n",
       "      <td>IEOC</td>\n",
       "      <td>GAS</td>\n",
       "      <td>DECLINING PRODUCTION</td>\n",
       "      <td>WRENCH/DELTA</td>\n",
       "      <td>10499</td>\n",
       "      <td>NEOGENE</td>\n",
       "      <td>SANDSTONE</td>\n",
       "      <td>509.0</td>\n",
       "      <td>410.0</td>\n",
       "      <td>20.0</td>\n",
       "      <td>300.0</td>\n",
       "    </tr>\n",
       "    <tr>\n",
       "      <th>2</th>\n",
       "      <td>ALIBEKMOLA</td>\n",
       "      <td>KT I</td>\n",
       "      <td>KAZAKHSTAN</td>\n",
       "      <td>FORMER SOVIET UNION</td>\n",
       "      <td>CASPIAN NORTH</td>\n",
       "      <td>COMPRESSION/EVAPORITE</td>\n",
       "      <td>48.4740</td>\n",
       "      <td>57.6667</td>\n",
       "      <td>KAZAKHOIL AKTOBE</td>\n",
       "      <td>OIL</td>\n",
       "      <td>DEVELOPING</td>\n",
       "      <td>SUB-SALT/FORELAND</td>\n",
       "      <td>6000</td>\n",
       "      <td>CARBONIFEROUS</td>\n",
       "      <td>LIMESTONE</td>\n",
       "      <td>300.0</td>\n",
       "      <td>105.0</td>\n",
       "      <td>10.0</td>\n",
       "      <td>20.0</td>\n",
       "    </tr>\n",
       "    <tr>\n",
       "      <th>3</th>\n",
       "      <td>ALWYN NORTH</td>\n",
       "      <td>BRENT (BRENT EAST)</td>\n",
       "      <td>UK</td>\n",
       "      <td>EUROPE</td>\n",
       "      <td>NORTH SEA NORTHERN</td>\n",
       "      <td>INVERSION/COMPRESSION/EXTENSION</td>\n",
       "      <td>60.7833</td>\n",
       "      <td>1.7333</td>\n",
       "      <td>TOTAL</td>\n",
       "      <td>OIL</td>\n",
       "      <td>NEARLY DEPLETED</td>\n",
       "      <td>RIFT</td>\n",
       "      <td>9790</td>\n",
       "      <td>JURASSIC</td>\n",
       "      <td>SANDSTONE</td>\n",
       "      <td>886.0</td>\n",
       "      <td>344.0</td>\n",
       "      <td>17.0</td>\n",
       "      <td>500.0</td>\n",
       "    </tr>\n",
       "    <tr>\n",
       "      <th>4</th>\n",
       "      <td>ANKLESHWAR</td>\n",
       "      <td>ANKLESHWAR (HAZAD-ARDOL)</td>\n",
       "      <td>INDIA</td>\n",
       "      <td>FAR EAST</td>\n",
       "      <td>CAMBAY</td>\n",
       "      <td>STRIKE-SLIP/TRANSPRESSION/BASEMENT-I</td>\n",
       "      <td>21.6000</td>\n",
       "      <td>72.9167</td>\n",
       "      <td>ONGC</td>\n",
       "      <td>OIL</td>\n",
       "      <td>MATURE PRODUCTION</td>\n",
       "      <td>WRENCH/RIFT</td>\n",
       "      <td>2950</td>\n",
       "      <td>PALEOGENE</td>\n",
       "      <td>SANDSTONE</td>\n",
       "      <td>670.0</td>\n",
       "      <td>0.0</td>\n",
       "      <td>21.0</td>\n",
       "      <td>250.0</td>\n",
       "    </tr>\n",
       "  </tbody>\n",
       "</table>\n",
       "</div>"
      ],
      "text/plain": [
       "         Field name            Reservoir unit     Country  \\\n",
       "0      ABU GHARADIG                  BAHARIYA       EGYPT   \n",
       "1  ABU MADI-EL QARA      ABU MADI (LEVEL III)       EGYPT   \n",
       "2        ALIBEKMOLA                      KT I  KAZAKHSTAN   \n",
       "3       ALWYN NORTH        BRENT (BRENT EAST)          UK   \n",
       "4        ANKLESHWAR  ANKLESHWAR (HAZAD-ARDOL)       INDIA   \n",
       "\n",
       "                Region          Basin name  \\\n",
       "0               AFRICA        ABU GHARADIG   \n",
       "1               AFRICA          NILE DELTA   \n",
       "2  FORMER SOVIET UNION       CASPIAN NORTH   \n",
       "3               EUROPE  NORTH SEA NORTHERN   \n",
       "4             FAR EAST              CAMBAY   \n",
       "\n",
       "                                     Tectonic regime  Latitude  Longitude  \\\n",
       "0                                          EXTENSION   29.7422    28.4925   \n",
       "1  STRIKE-SLIP/TRANSTENSION/SHALE/EVAPORITE/BASEM...   31.4382    31.3616   \n",
       "2                              COMPRESSION/EVAPORITE   48.4740    57.6667   \n",
       "3                    INVERSION/COMPRESSION/EXTENSION   60.7833     1.7333   \n",
       "4               STRIKE-SLIP/TRANSPRESSION/BASEMENT-I   21.6000    72.9167   \n",
       "\n",
       "   Operator company Hydrocarbon type      Reservoir status Structural setting  \\\n",
       "0             GUPCO   GAS-CONDENSATE     MATURE PRODUCTION               RIFT   \n",
       "1              IEOC              GAS  DECLINING PRODUCTION       WRENCH/DELTA   \n",
       "2  KAZAKHOIL AKTOBE              OIL            DEVELOPING  SUB-SALT/FORELAND   \n",
       "3             TOTAL              OIL       NEARLY DEPLETED               RIFT   \n",
       "4              ONGC              OIL     MATURE PRODUCTION        WRENCH/RIFT   \n",
       "\n",
       "   Depth Reservoir period  Lithology  Thickness (gross average ft)  \\\n",
       "0  10282       CRETACEOUS  SANDSTONE                         745.0   \n",
       "1  10499          NEOGENE  SANDSTONE                         509.0   \n",
       "2   6000    CARBONIFEROUS  LIMESTONE                         300.0   \n",
       "3   9790         JURASSIC  SANDSTONE                         886.0   \n",
       "4   2950        PALEOGENE  SANDSTONE                         670.0   \n",
       "\n",
       "   Thickness (net pay average ft)  Porosity  Permeability  \n",
       "0                           144.0      10.0           8.0  \n",
       "1                           410.0      20.0         300.0  \n",
       "2                           105.0      10.0          20.0  \n",
       "3                           344.0      17.0         500.0  \n",
       "4                             0.0      21.0         250.0  "
      ]
     },
     "execution_count": 1476,
     "metadata": {},
     "output_type": "execute_result"
    }
   ],
   "source": [
    "test.head()"
   ]
  },
  {
   "cell_type": "markdown",
   "metadata": {
    "id": "pBCBGDR3nZdL"
   },
   "source": [
    "## Исследование и обработка данных"
   ]
  },
  {
   "cell_type": "code",
   "execution_count": 1477,
   "metadata": {
    "colab": {
     "base_uri": "https://localhost:8080/"
    },
    "id": "2QbfBZuqrN8Z",
    "outputId": "867193f7-7370-4f00-fe46-a2c5321bd045"
   },
   "outputs": [
    {
     "data": {
      "text/plain": [
       "Field name                         object\n",
       "Reservoir unit                     object\n",
       "Country                            object\n",
       "Region                             object\n",
       "Basin name                         object\n",
       "Tectonic regime                    object\n",
       "Latitude                          float64\n",
       "Longitude                         float64\n",
       "Operator company                   object\n",
       "Onshore/Offshore                   object\n",
       "Hydrocarbon type                   object\n",
       "Reservoir status                   object\n",
       "Structural setting                 object\n",
       "Depth                               int64\n",
       "Reservoir period                   object\n",
       "Lithology                          object\n",
       "Thickness (gross average ft)      float64\n",
       "Thickness (net pay average ft)    float64\n",
       "Porosity                          float64\n",
       "Permeability                      float64\n",
       "dtype: object"
      ]
     },
     "execution_count": 1477,
     "metadata": {},
     "output_type": "execute_result"
    }
   ],
   "source": [
    "train.dtypes"
   ]
  },
  {
   "cell_type": "code",
   "execution_count": 1478,
   "metadata": {},
   "outputs": [],
   "source": [
    "df = train.copy()"
   ]
  },
  {
   "cell_type": "code",
   "execution_count": 1479,
   "metadata": {},
   "outputs": [],
   "source": [
    "cols_missing = ['Latitude', 'Longitude']\n",
    "for i in cols_missing:\n",
    "    train[i].fillna(train[i].mean(), inplace=True)"
   ]
  },
  {
   "cell_type": "code",
   "execution_count": 1480,
   "metadata": {},
   "outputs": [],
   "source": [
    "cols_missing = ['Latitude', 'Longitude']\n",
    "for i in cols_missing:\n",
    "    test[i].fillna(test[i].mean(), inplace=True)\n",
    "#test = test.dropna()"
   ]
  },
  {
   "cell_type": "code",
   "execution_count": 1481,
   "metadata": {},
   "outputs": [],
   "source": [
    "train = train.fillna('Missing')"
   ]
  },
  {
   "cell_type": "code",
   "execution_count": 1482,
   "metadata": {},
   "outputs": [],
   "source": [
    "test = test.fillna('Missing')"
   ]
  },
  {
   "cell_type": "markdown",
   "metadata": {
    "id": "VVcdGjvdptrO"
   },
   "source": [
    "### BoxPlot"
   ]
  },
  {
   "cell_type": "code",
   "execution_count": 1483,
   "metadata": {
    "colab": {
     "base_uri": "https://localhost:8080/",
     "height": 1000
    },
    "id": "xlRP3ipkqckb",
    "outputId": "39d69352-fe1c-4783-8f6f-c2184675f64a"
   },
   "outputs": [
    {
     "data": {
      "text/plain": [
       "<AxesSubplot:>"
      ]
     },
     "execution_count": 1483,
     "metadata": {},
     "output_type": "execute_result"
    },
    {
     "data": {
      "text/plain": [
       "<Figure size 1440x1440 with 0 Axes>"
      ]
     },
     "metadata": {},
     "output_type": "display_data"
    },
    {
     "data": {
      "image/png": "[encoded data removed]",
      "text/plain": [
       "<Figure size 360x360 with 1 Axes>"
      ]
     },
     "metadata": {},
     "output_type": "display_data"
    }
   ],
   "source": [
    "plt.figure(figsize=(20,20))\n",
    "\n",
    "train[['Depth', 'Thickness (gross average ft)', 'Thickness (net pay average ft)', 'Porosity', 'Permeability']].plot(kind='box')"
   ]
  },
  {
   "cell_type": "code",
   "execution_count": 1484,
   "metadata": {
    "colab": {
     "base_uri": "https://localhost:8080/",
     "height": 377
    },
    "id": "jclFVu_TBsCK",
    "outputId": "eebedf18-9676-4b85-a354-f9491164d1b7"
   },
   "outputs": [
    {
     "data": {
      "image/png": "[encoded data removed]",
      "text/plain": [
       "<Figure size 432x432 with 1 Axes>"
      ]
     },
     "metadata": {},
     "output_type": "display_data"
    }
   ],
   "source": [
    "_, bp = train.Depth.plot.box(return_type='both', figsize=(6,6))"
   ]
  },
  {
   "cell_type": "code",
   "execution_count": 1485,
   "metadata": {
    "colab": {
     "base_uri": "https://localhost:8080/",
     "height": 332
    },
    "id": "R_vakCOZB2TL",
    "outputId": "4b3a5cdb-7e05-4ab4-8d5c-f091878f4240"
   },
   "outputs": [
    {
     "data": {
      "text/html": [
       "<div>\n",
       "<style scoped>\n",
       "    .dataframe tbody tr th:only-of-type {\n",
       "        vertical-align: middle;\n",
       "    }\n",
       "\n",
       "    .dataframe tbody tr th {\n",
       "        vertical-align: top;\n",
       "    }\n",
       "\n",
       "    .dataframe thead th {\n",
       "        text-align: right;\n",
       "    }\n",
       "</style>\n",
       "<table border=\"1\" class=\"dataframe\">\n",
       "  <thead>\n",
       "    <tr style=\"text-align: right;\">\n",
       "      <th></th>\n",
       "      <th>Field name</th>\n",
       "      <th>Reservoir unit</th>\n",
       "      <th>Country</th>\n",
       "      <th>Region</th>\n",
       "      <th>Basin name</th>\n",
       "      <th>Tectonic regime</th>\n",
       "      <th>Latitude</th>\n",
       "      <th>Longitude</th>\n",
       "      <th>Operator company</th>\n",
       "      <th>Onshore/Offshore</th>\n",
       "      <th>Hydrocarbon type</th>\n",
       "      <th>Reservoir status</th>\n",
       "      <th>Structural setting</th>\n",
       "      <th>Depth</th>\n",
       "      <th>Reservoir period</th>\n",
       "      <th>Lithology</th>\n",
       "      <th>Thickness (gross average ft)</th>\n",
       "      <th>Thickness (net pay average ft)</th>\n",
       "      <th>Porosity</th>\n",
       "      <th>Permeability</th>\n",
       "    </tr>\n",
       "  </thead>\n",
       "  <tbody>\n",
       "    <tr>\n",
       "      <th>224</th>\n",
       "      <td>MILLS RANCH</td>\n",
       "      <td>HUNTON (CHIMNEY HILL-HENRYHOUSE)</td>\n",
       "      <td>USA</td>\n",
       "      <td>NORTH AMERICA</td>\n",
       "      <td>ANADARKO</td>\n",
       "      <td>COMPRESSION/EROSION</td>\n",
       "      <td>35.3676</td>\n",
       "      <td>-100.0793</td>\n",
       "      <td>CHEVRON</td>\n",
       "      <td>ONSHORE</td>\n",
       "      <td>GAS</td>\n",
       "      <td>NEARLY DEPLETED</td>\n",
       "      <td>THRUST</td>\n",
       "      <td>19888</td>\n",
       "      <td>SILURIAN</td>\n",
       "      <td>DOLOMITE</td>\n",
       "      <td>930.0</td>\n",
       "      <td>94.0</td>\n",
       "      <td>6.0</td>\n",
       "      <td>7.0</td>\n",
       "    </tr>\n",
       "    <tr>\n",
       "      <th>272</th>\n",
       "      <td>HATTERS POND</td>\n",
       "      <td>NORPHLET</td>\n",
       "      <td>USA</td>\n",
       "      <td>NORTH AMERICA</td>\n",
       "      <td>GULF OF MEXICO NORTHERN ONSHORE</td>\n",
       "      <td>GRAVITY/EXTENSION/EVAPORITE/DIAPIR/SYNSEDIMENT...</td>\n",
       "      <td>30.8976</td>\n",
       "      <td>-88.0660</td>\n",
       "      <td>CHEVRON</td>\n",
       "      <td>ONSHORE</td>\n",
       "      <td>GAS-CONDENSATE</td>\n",
       "      <td>DECLINING PRODUCTION</td>\n",
       "      <td>SALT/PASSIVE MARGIN</td>\n",
       "      <td>18050</td>\n",
       "      <td>JURASSIC</td>\n",
       "      <td>SANDSTONE</td>\n",
       "      <td>350.0</td>\n",
       "      <td>200.0</td>\n",
       "      <td>10.4</td>\n",
       "      <td>0.5</td>\n",
       "    </tr>\n",
       "  </tbody>\n",
       "</table>\n",
       "</div>"
      ],
      "text/plain": [
       "       Field name                    Reservoir unit Country         Region  \\\n",
       "224   MILLS RANCH  HUNTON (CHIMNEY HILL-HENRYHOUSE)     USA  NORTH AMERICA   \n",
       "272  HATTERS POND                          NORPHLET     USA  NORTH AMERICA   \n",
       "\n",
       "                          Basin name  \\\n",
       "224                         ANADARKO   \n",
       "272  GULF OF MEXICO NORTHERN ONSHORE   \n",
       "\n",
       "                                       Tectonic regime  Latitude  Longitude  \\\n",
       "224                                COMPRESSION/EROSION   35.3676  -100.0793   \n",
       "272  GRAVITY/EXTENSION/EVAPORITE/DIAPIR/SYNSEDIMENT...   30.8976   -88.0660   \n",
       "\n",
       "    Operator company Onshore/Offshore Hydrocarbon type      Reservoir status  \\\n",
       "224          CHEVRON          ONSHORE              GAS       NEARLY DEPLETED   \n",
       "272          CHEVRON          ONSHORE   GAS-CONDENSATE  DECLINING PRODUCTION   \n",
       "\n",
       "      Structural setting  Depth Reservoir period  Lithology  \\\n",
       "224               THRUST  19888         SILURIAN   DOLOMITE   \n",
       "272  SALT/PASSIVE MARGIN  18050         JURASSIC  SANDSTONE   \n",
       "\n",
       "     Thickness (gross average ft)  Thickness (net pay average ft)  Porosity  \\\n",
       "224                         930.0                            94.0       6.0   \n",
       "272                         350.0                           200.0      10.4   \n",
       "\n",
       "     Permeability  \n",
       "224           7.0  \n",
       "272           0.5  "
      ]
     },
     "execution_count": 1485,
     "metadata": {},
     "output_type": "execute_result"
    }
   ],
   "source": [
    "outliers = [flier.get_ydata() for flier in bp[\"fliers\"]][0]\n",
    "train[train.Depth.isin(outliers)]"
   ]
  },
  {
   "cell_type": "code",
   "execution_count": 1486,
   "metadata": {
    "colab": {
     "base_uri": "https://localhost:8080/",
     "height": 384
    },
    "id": "WLJbn_k4CO4w",
    "outputId": "4cca32a6-e286-400b-c6e5-ae6954b74123",
    "scrolled": true
   },
   "outputs": [
    {
     "name": "stdout",
     "output_type": "stream",
     "text": [
      "4059.0\n",
      "5127.0\n",
      "9186.0\n"
     ]
    },
    {
     "data": {
      "text/html": [
       "<div>\n",
       "<style scoped>\n",
       "    .dataframe tbody tr th:only-of-type {\n",
       "        vertical-align: middle;\n",
       "    }\n",
       "\n",
       "    .dataframe tbody tr th {\n",
       "        vertical-align: top;\n",
       "    }\n",
       "\n",
       "    .dataframe thead th {\n",
       "        text-align: right;\n",
       "    }\n",
       "</style>\n",
       "<table border=\"1\" class=\"dataframe\">\n",
       "  <thead>\n",
       "    <tr style=\"text-align: right;\">\n",
       "      <th></th>\n",
       "      <th>Field name</th>\n",
       "      <th>Reservoir unit</th>\n",
       "      <th>Country</th>\n",
       "      <th>Region</th>\n",
       "      <th>Basin name</th>\n",
       "      <th>Tectonic regime</th>\n",
       "      <th>Latitude</th>\n",
       "      <th>Longitude</th>\n",
       "      <th>Operator company</th>\n",
       "      <th>Onshore/Offshore</th>\n",
       "      <th>Hydrocarbon type</th>\n",
       "      <th>Reservoir status</th>\n",
       "      <th>Structural setting</th>\n",
       "      <th>Depth</th>\n",
       "      <th>Reservoir period</th>\n",
       "      <th>Lithology</th>\n",
       "      <th>Thickness (gross average ft)</th>\n",
       "      <th>Thickness (net pay average ft)</th>\n",
       "      <th>Porosity</th>\n",
       "      <th>Permeability</th>\n",
       "    </tr>\n",
       "  </thead>\n",
       "  <tbody>\n",
       "    <tr>\n",
       "      <th>224</th>\n",
       "      <td>MILLS RANCH</td>\n",
       "      <td>HUNTON (CHIMNEY HILL-HENRYHOUSE)</td>\n",
       "      <td>USA</td>\n",
       "      <td>NORTH AMERICA</td>\n",
       "      <td>ANADARKO</td>\n",
       "      <td>COMPRESSION/EROSION</td>\n",
       "      <td>35.3676</td>\n",
       "      <td>-100.0793</td>\n",
       "      <td>CHEVRON</td>\n",
       "      <td>ONSHORE</td>\n",
       "      <td>GAS</td>\n",
       "      <td>NEARLY DEPLETED</td>\n",
       "      <td>THRUST</td>\n",
       "      <td>19888</td>\n",
       "      <td>SILURIAN</td>\n",
       "      <td>DOLOMITE</td>\n",
       "      <td>930.0</td>\n",
       "      <td>94.0</td>\n",
       "      <td>6.0</td>\n",
       "      <td>7.0</td>\n",
       "    </tr>\n",
       "    <tr>\n",
       "      <th>272</th>\n",
       "      <td>HATTERS POND</td>\n",
       "      <td>NORPHLET</td>\n",
       "      <td>USA</td>\n",
       "      <td>NORTH AMERICA</td>\n",
       "      <td>GULF OF MEXICO NORTHERN ONSHORE</td>\n",
       "      <td>GRAVITY/EXTENSION/EVAPORITE/DIAPIR/SYNSEDIMENT...</td>\n",
       "      <td>30.8976</td>\n",
       "      <td>-88.0660</td>\n",
       "      <td>CHEVRON</td>\n",
       "      <td>ONSHORE</td>\n",
       "      <td>GAS-CONDENSATE</td>\n",
       "      <td>DECLINING PRODUCTION</td>\n",
       "      <td>SALT/PASSIVE MARGIN</td>\n",
       "      <td>18050</td>\n",
       "      <td>JURASSIC</td>\n",
       "      <td>SANDSTONE</td>\n",
       "      <td>350.0</td>\n",
       "      <td>200.0</td>\n",
       "      <td>10.4</td>\n",
       "      <td>0.5</td>\n",
       "    </tr>\n",
       "  </tbody>\n",
       "</table>\n",
       "</div>"
      ],
      "text/plain": [
       "       Field name                    Reservoir unit Country         Region  \\\n",
       "224   MILLS RANCH  HUNTON (CHIMNEY HILL-HENRYHOUSE)     USA  NORTH AMERICA   \n",
       "272  HATTERS POND                          NORPHLET     USA  NORTH AMERICA   \n",
       "\n",
       "                          Basin name  \\\n",
       "224                         ANADARKO   \n",
       "272  GULF OF MEXICO NORTHERN ONSHORE   \n",
       "\n",
       "                                       Tectonic regime  Latitude  Longitude  \\\n",
       "224                                COMPRESSION/EROSION   35.3676  -100.0793   \n",
       "272  GRAVITY/EXTENSION/EVAPORITE/DIAPIR/SYNSEDIMENT...   30.8976   -88.0660   \n",
       "\n",
       "    Operator company Onshore/Offshore Hydrocarbon type      Reservoir status  \\\n",
       "224          CHEVRON          ONSHORE              GAS       NEARLY DEPLETED   \n",
       "272          CHEVRON          ONSHORE   GAS-CONDENSATE  DECLINING PRODUCTION   \n",
       "\n",
       "      Structural setting  Depth Reservoir period  Lithology  \\\n",
       "224               THRUST  19888         SILURIAN   DOLOMITE   \n",
       "272  SALT/PASSIVE MARGIN  18050         JURASSIC  SANDSTONE   \n",
       "\n",
       "     Thickness (gross average ft)  Thickness (net pay average ft)  Porosity  \\\n",
       "224                         930.0                            94.0       6.0   \n",
       "272                         350.0                           200.0      10.4   \n",
       "\n",
       "     Permeability  \n",
       "224           7.0  \n",
       "272           0.5  "
      ]
     },
     "execution_count": 1486,
     "metadata": {},
     "output_type": "execute_result"
    }
   ],
   "source": [
    "Q1 =  train.Depth.quantile(0.25)\n",
    "Q3 = train.Depth.quantile(0.75)\n",
    "IQR = Q3 - Q1\n",
    "\n",
    "print(Q1)\n",
    "print(IQR)\n",
    "print(Q3)\n",
    "\n",
    "train[(train.Depth < Q1-1.5*IQR ) | (train.Depth > Q3+1.5*IQR)]"
   ]
  },
  {
   "cell_type": "code",
   "execution_count": 1487,
   "metadata": {},
   "outputs": [],
   "source": [
    "train.drop([224, 272], inplace = True)"
   ]
  },
  {
   "cell_type": "code",
   "execution_count": 1488,
   "metadata": {
    "colab": {
     "base_uri": "https://localhost:8080/",
     "height": 570
    },
    "id": "i3pb_HGFrGSQ",
    "outputId": "68a981a5-35c5-4f92-8f86-e3e62ab7c1a1",
    "scrolled": true
   },
   "outputs": [
    {
     "name": "stderr",
     "output_type": "stream",
     "text": [
      "D:\\all\\anaconda\\lib\\site-packages\\seaborn\\_decorators.py:36: FutureWarning: Pass the following variable as a keyword arg: x. From version 0.12, the only valid positional argument will be `data`, and passing other arguments without an explicit keyword will result in an error or misinterpretation.\n",
      "  warnings.warn(\n",
      "D:\\all\\anaconda\\lib\\site-packages\\seaborn\\_decorators.py:36: FutureWarning: Pass the following variable as a keyword arg: x. From version 0.12, the only valid positional argument will be `data`, and passing other arguments without an explicit keyword will result in an error or misinterpretation.\n",
      "  warnings.warn(\n",
      "D:\\all\\anaconda\\lib\\site-packages\\seaborn\\_decorators.py:36: FutureWarning: Pass the following variable as a keyword arg: x. From version 0.12, the only valid positional argument will be `data`, and passing other arguments without an explicit keyword will result in an error or misinterpretation.\n",
      "  warnings.warn(\n",
      "D:\\all\\anaconda\\lib\\site-packages\\seaborn\\_decorators.py:36: FutureWarning: Pass the following variable as a keyword arg: x. From version 0.12, the only valid positional argument will be `data`, and passing other arguments without an explicit keyword will result in an error or misinterpretation.\n",
      "  warnings.warn(\n"
     ]
    },
    {
     "data": {
      "text/plain": [
       "<AxesSubplot:xlabel='Porosity'>"
      ]
     },
     "execution_count": 1488,
     "metadata": {},
     "output_type": "execute_result"
    },
    {
     "data": {
      "image/png": "[encoded data removed]",
      "text/plain": [
       "<Figure size 1080x432 with 4 Axes>"
      ]
     },
     "metadata": {},
     "output_type": "display_data"
    }
   ],
   "source": [
    "fig, axes = plt.subplots(2, 2, figsize=(15,6))  \n",
    "\n",
    "sns.boxplot(train['Depth'], ax=axes[0, 0], width=0.3)\n",
    "sns.boxplot(train['Thickness (gross average ft)'], ax=axes[0, 1], width=0.3)\n",
    "sns.boxplot(train['Permeability'], ax=axes[1,0], width=0.3)\n",
    "sns.boxplot(train['Porosity'], ax=axes[1, 1], width=0.3)"
   ]
  },
  {
   "cell_type": "code",
   "execution_count": 1489,
   "metadata": {},
   "outputs": [
    {
     "data": {
      "text/plain": [
       "(307, 20)"
      ]
     },
     "execution_count": 1489,
     "metadata": {},
     "output_type": "execute_result"
    }
   ],
   "source": [
    "train.shape"
   ]
  },
  {
   "cell_type": "code",
   "execution_count": 1490,
   "metadata": {},
   "outputs": [],
   "source": [
    "df = train.drop(train[(train['Thickness (gross average ft)'] > 1900) | (train['Permeability'] > 1000)].index)"
   ]
  },
  {
   "cell_type": "code",
   "execution_count": 1491,
   "metadata": {},
   "outputs": [],
   "source": [
    "train = df.copy()"
   ]
  },
  {
   "cell_type": "markdown",
   "metadata": {
    "id": "56-YMEKLtzTY"
   },
   "source": [
    "### Распределение переменных"
   ]
  },
  {
   "cell_type": "code",
   "execution_count": 1492,
   "metadata": {
    "colab": {
     "base_uri": "https://localhost:8080/",
     "height": 411
    },
    "id": "AypFINcShzsN",
    "outputId": "03488ca8-c6d2-4118-8649-bb54ab6ca6dd"
   },
   "outputs": [
    {
     "name": "stderr",
     "output_type": "stream",
     "text": [
      "D:\\all\\anaconda\\lib\\site-packages\\seaborn\\distributions.py:2619: FutureWarning: `distplot` is a deprecated function and will be removed in a future version. Please adapt your code to use either `displot` (a figure-level function with similar flexibility) or `histplot` (an axes-level function for histograms).\n",
      "  warnings.warn(msg, FutureWarning)\n"
     ]
    },
    {
     "data": {
      "text/plain": [
       "<AxesSubplot:xlabel='Depth', ylabel='Density'>"
      ]
     },
     "execution_count": 1492,
     "metadata": {},
     "output_type": "execute_result"
    },
    {
     "data": {
      "image/png": "[encoded data removed]",
      "text/plain": [
       "<Figure size 360x360 with 1 Axes>"
      ]
     },
     "metadata": {},
     "output_type": "display_data"
    }
   ],
   "source": [
    "plt.figure(figsize=(5,5))\n",
    "\n",
    "sns.distplot(train['Depth'], bins=30)"
   ]
  },
  {
   "cell_type": "code",
   "execution_count": 1493,
   "metadata": {
    "colab": {
     "base_uri": "https://localhost:8080/",
     "height": 787
    },
    "id": "817ToJzowJ-o",
    "outputId": "245e6bea-4c90-4c4e-a2bd-e754d215b7c2"
   },
   "outputs": [
    {
     "name": "stderr",
     "output_type": "stream",
     "text": [
      "D:\\all\\anaconda\\lib\\site-packages\\seaborn\\distributions.py:2619: FutureWarning: `distplot` is a deprecated function and will be removed in a future version. Please adapt your code to use either `displot` (a figure-level function with similar flexibility) or `histplot` (an axes-level function for histograms).\n",
      "  warnings.warn(msg, FutureWarning)\n",
      "D:\\all\\anaconda\\lib\\site-packages\\seaborn\\distributions.py:2619: FutureWarning: `distplot` is a deprecated function and will be removed in a future version. Please adapt your code to use either `displot` (a figure-level function with similar flexibility) or `histplot` (an axes-level function for histograms).\n",
      "  warnings.warn(msg, FutureWarning)\n",
      "D:\\all\\anaconda\\lib\\site-packages\\seaborn\\distributions.py:2619: FutureWarning: `distplot` is a deprecated function and will be removed in a future version. Please adapt your code to use either `displot` (a figure-level function with similar flexibility) or `histplot` (an axes-level function for histograms).\n",
      "  warnings.warn(msg, FutureWarning)\n",
      "D:\\all\\anaconda\\lib\\site-packages\\seaborn\\distributions.py:2619: FutureWarning: `distplot` is a deprecated function and will be removed in a future version. Please adapt your code to use either `displot` (a figure-level function with similar flexibility) or `histplot` (an axes-level function for histograms).\n",
      "  warnings.warn(msg, FutureWarning)\n"
     ]
    },
    {
     "data": {
      "text/plain": [
       "<AxesSubplot:xlabel='Porosity', ylabel='Density'>"
      ]
     },
     "execution_count": 1493,
     "metadata": {},
     "output_type": "execute_result"
    },
    {
     "data": {
      "image/png": "[encoded data removed]",
      "text/plain": [
       "<Figure size 1080x720 with 4 Axes>"
      ]
     },
     "metadata": {},
     "output_type": "display_data"
    }
   ],
   "source": [
    "fig, axes = plt.subplots(2, 2, figsize=(15,10))  \n",
    "\n",
    "sns.distplot(train['Depth'], ax=axes[0, 0])\n",
    "sns.distplot(train['Permeability'], ax=axes[0, 1])\n",
    "sns.distplot(train['Thickness (gross average ft)'], ax=axes[1,0])\n",
    "sns.distplot(train['Porosity'], ax=axes[1, 1])"
   ]
  },
  {
   "cell_type": "markdown",
   "metadata": {
    "id": "e58r-jVNxAsz"
   },
   "source": [
    "### Взаимосвязи между переменными"
   ]
  },
  {
   "cell_type": "code",
   "execution_count": 1494,
   "metadata": {
    "colab": {
     "base_uri": "https://localhost:8080/",
     "height": 382
    },
    "id": "1sDBehU9yMVA",
    "outputId": "462e4a27-8307-411e-a900-37cdcef2e2e2"
   },
   "outputs": [
    {
     "data": {
      "text/plain": [
       "<seaborn.axisgrid.FacetGrid at 0x240befa74f0>"
      ]
     },
     "execution_count": 1494,
     "metadata": {},
     "output_type": "execute_result"
    },
    {
     "data": {
      "image/png": "[encoded data removed]",
      "text/plain": [
       "<Figure size 360x360 with 1 Axes>"
      ]
     },
     "metadata": {},
     "output_type": "display_data"
    }
   ],
   "source": [
    "sns.catplot(x=\"Onshore/Offshore\", y=\"Depth\", kind = \"box\", data=train)"
   ]
  },
  {
   "cell_type": "markdown",
   "metadata": {
    "id": "rRfnsl4jzDnC"
   },
   "source": [
    "Давайте взглянем на первый из таких сложных графиков, график попарных отношений , который по умолчанию создает матрицу точечных графиков. Такой график помогает нам визуализировать взаимосвязь между различными переменными в одном выводе."
   ]
  },
  {
   "cell_type": "code",
   "execution_count": 1495,
   "metadata": {
    "colab": {
     "base_uri": "https://localhost:8080/",
     "height": 920
    },
    "id": "Z-mfxyisypCH",
    "outputId": "8dc813d9-2058-4309-eded-6e1ac3f871bf"
   },
   "outputs": [],
   "source": [
    "# tmp = train[['Depth', 'Thickness (gross average ft)', 'Thickness (net pay average ft)', 'Porosity', 'Permeability', 'Onshore/Offshore']]\n",
    "# sns.pairplot(tmp, hue = 'Onshore/Offshore')"
   ]
  },
  {
   "cell_type": "markdown",
   "metadata": {
    "id": "9jW2q9i2nhhm"
   },
   "source": [
    "### Обработка категориальных признаков"
   ]
  },
  {
   "cell_type": "code",
   "execution_count": 1496,
   "metadata": {
    "colab": {
     "base_uri": "https://localhost:8080/",
     "height": 461
    },
    "id": "FcUrlV6pe1n9",
    "outputId": "a3a9b4ad-86d5-4ef2-c016-fa4390304961"
   },
   "outputs": [
    {
     "data": {
      "text/html": [
       "<div>\n",
       "<style scoped>\n",
       "    .dataframe tbody tr th:only-of-type {\n",
       "        vertical-align: middle;\n",
       "    }\n",
       "\n",
       "    .dataframe tbody tr th {\n",
       "        vertical-align: top;\n",
       "    }\n",
       "\n",
       "    .dataframe thead th {\n",
       "        text-align: right;\n",
       "    }\n",
       "</style>\n",
       "<table border=\"1\" class=\"dataframe\">\n",
       "  <thead>\n",
       "    <tr style=\"text-align: right;\">\n",
       "      <th></th>\n",
       "      <th>Field name</th>\n",
       "      <th>Reservoir unit</th>\n",
       "      <th>Country</th>\n",
       "      <th>Region</th>\n",
       "      <th>Basin name</th>\n",
       "      <th>Tectonic regime</th>\n",
       "      <th>Latitude</th>\n",
       "      <th>Longitude</th>\n",
       "      <th>Operator company</th>\n",
       "      <th>Onshore/Offshore</th>\n",
       "      <th>Hydrocarbon type</th>\n",
       "      <th>Reservoir status</th>\n",
       "      <th>Structural setting</th>\n",
       "      <th>Depth</th>\n",
       "      <th>Reservoir period</th>\n",
       "      <th>Lithology</th>\n",
       "      <th>Thickness (gross average ft)</th>\n",
       "      <th>Thickness (net pay average ft)</th>\n",
       "      <th>Porosity</th>\n",
       "      <th>Permeability</th>\n",
       "    </tr>\n",
       "  </thead>\n",
       "  <tbody>\n",
       "    <tr>\n",
       "      <th>0</th>\n",
       "      <td>ZHIRNOV</td>\n",
       "      <td>MELEKESKIAN</td>\n",
       "      <td>RUSSIA</td>\n",
       "      <td>FORMER SOVIET UNION</td>\n",
       "      <td>VOLGA-URAL</td>\n",
       "      <td>COMPRESSION/EVAPORITE</td>\n",
       "      <td>51.0000</td>\n",
       "      <td>44.8042</td>\n",
       "      <td>NIZHNEVOLZHSKNET</td>\n",
       "      <td>ONSHORE</td>\n",
       "      <td>OIL</td>\n",
       "      <td>DECLINING PRODUCTION</td>\n",
       "      <td>FORELAND</td>\n",
       "      <td>1870</td>\n",
       "      <td>CARBONIFEROUS</td>\n",
       "      <td>SANDSTONE</td>\n",
       "      <td>262.0</td>\n",
       "      <td>33.0</td>\n",
       "      <td>24.0</td>\n",
       "      <td>30.0</td>\n",
       "    </tr>\n",
       "    <tr>\n",
       "      <th>2</th>\n",
       "      <td>ABQAIQ</td>\n",
       "      <td>ARAB D</td>\n",
       "      <td>SAUDI ARABIA</td>\n",
       "      <td>MIDDLE EAST</td>\n",
       "      <td>THE GULF</td>\n",
       "      <td>COMPRESSION/EVAPORITE</td>\n",
       "      <td>26.0800</td>\n",
       "      <td>49.8100</td>\n",
       "      <td>SAUDI ARAMCO</td>\n",
       "      <td>ONSHORE</td>\n",
       "      <td>OIL</td>\n",
       "      <td>REJUVENATING</td>\n",
       "      <td>FORELAND</td>\n",
       "      <td>6050</td>\n",
       "      <td>JURASSIC</td>\n",
       "      <td>LIMESTONE</td>\n",
       "      <td>250.0</td>\n",
       "      <td>184.0</td>\n",
       "      <td>21.0</td>\n",
       "      <td>410.0</td>\n",
       "    </tr>\n",
       "    <tr>\n",
       "      <th>3</th>\n",
       "      <td>MURCHISON</td>\n",
       "      <td>BRENT</td>\n",
       "      <td>UK /NORWAY</td>\n",
       "      <td>EUROPE</td>\n",
       "      <td>NORTH SEA NORTHERN</td>\n",
       "      <td>EXTENSION</td>\n",
       "      <td>61.3833</td>\n",
       "      <td>1.7500</td>\n",
       "      <td>CNR</td>\n",
       "      <td>OFFSHORE</td>\n",
       "      <td>OIL</td>\n",
       "      <td>NEARLY DEPLETED</td>\n",
       "      <td>RIFT</td>\n",
       "      <td>8988</td>\n",
       "      <td>JURASSIC</td>\n",
       "      <td>SANDSTONE</td>\n",
       "      <td>425.0</td>\n",
       "      <td>300.0</td>\n",
       "      <td>22.0</td>\n",
       "      <td>750.0</td>\n",
       "    </tr>\n",
       "    <tr>\n",
       "      <th>5</th>\n",
       "      <td>UCHKYR</td>\n",
       "      <td>XV-1</td>\n",
       "      <td>UZBEKISTAN</td>\n",
       "      <td>FORMER SOVIET UNION</td>\n",
       "      <td>AMU DARYA</td>\n",
       "      <td>INVERSION/COMPRESSION/EXTENSION/EVAPORITE</td>\n",
       "      <td>40.1494</td>\n",
       "      <td>62.9906</td>\n",
       "      <td>SREDAZGAZPROM</td>\n",
       "      <td>ONSHORE</td>\n",
       "      <td>GAS</td>\n",
       "      <td>DECLINING PRODUCTION</td>\n",
       "      <td>INVERSION/RIFT</td>\n",
       "      <td>5443</td>\n",
       "      <td>JURASSIC</td>\n",
       "      <td>DOLOMITE</td>\n",
       "      <td>82.0</td>\n",
       "      <td>59.0</td>\n",
       "      <td>16.0</td>\n",
       "      <td>61.0</td>\n",
       "    </tr>\n",
       "    <tr>\n",
       "      <th>6</th>\n",
       "      <td>WESTHOPE SOUTH</td>\n",
       "      <td>CHARLES</td>\n",
       "      <td>USA</td>\n",
       "      <td>NORTH AMERICA</td>\n",
       "      <td>WILLISTON</td>\n",
       "      <td>COMPRESSION</td>\n",
       "      <td>48.8521</td>\n",
       "      <td>-101.0130</td>\n",
       "      <td>AMERADA HESS</td>\n",
       "      <td>ONSHORE</td>\n",
       "      <td>OIL</td>\n",
       "      <td>MATURE PRODUCTION</td>\n",
       "      <td>INTRACRATONIC</td>\n",
       "      <td>3275</td>\n",
       "      <td>CARBONIFEROUS</td>\n",
       "      <td>DOLOMITIC LIMESTONE</td>\n",
       "      <td>43.0</td>\n",
       "      <td>15.5</td>\n",
       "      <td>10.0</td>\n",
       "      <td>2.6</td>\n",
       "    </tr>\n",
       "  </tbody>\n",
       "</table>\n",
       "</div>"
      ],
      "text/plain": [
       "       Field name Reservoir unit       Country               Region  \\\n",
       "0         ZHIRNOV    MELEKESKIAN        RUSSIA  FORMER SOVIET UNION   \n",
       "2          ABQAIQ         ARAB D  SAUDI ARABIA          MIDDLE EAST   \n",
       "3       MURCHISON          BRENT    UK /NORWAY               EUROPE   \n",
       "5          UCHKYR           XV-1    UZBEKISTAN  FORMER SOVIET UNION   \n",
       "6  WESTHOPE SOUTH        CHARLES           USA        NORTH AMERICA   \n",
       "\n",
       "           Basin name                            Tectonic regime  Latitude  \\\n",
       "0          VOLGA-URAL                      COMPRESSION/EVAPORITE   51.0000   \n",
       "2            THE GULF                      COMPRESSION/EVAPORITE   26.0800   \n",
       "3  NORTH SEA NORTHERN                                  EXTENSION   61.3833   \n",
       "5           AMU DARYA  INVERSION/COMPRESSION/EXTENSION/EVAPORITE   40.1494   \n",
       "6           WILLISTON                                COMPRESSION   48.8521   \n",
       "\n",
       "   Longitude  Operator company Onshore/Offshore Hydrocarbon type  \\\n",
       "0    44.8042  NIZHNEVOLZHSKNET          ONSHORE              OIL   \n",
       "2    49.8100      SAUDI ARAMCO          ONSHORE              OIL   \n",
       "3     1.7500               CNR         OFFSHORE              OIL   \n",
       "5    62.9906     SREDAZGAZPROM          ONSHORE              GAS   \n",
       "6  -101.0130      AMERADA HESS          ONSHORE              OIL   \n",
       "\n",
       "       Reservoir status Structural setting  Depth Reservoir period  \\\n",
       "0  DECLINING PRODUCTION           FORELAND   1870    CARBONIFEROUS   \n",
       "2          REJUVENATING           FORELAND   6050         JURASSIC   \n",
       "3       NEARLY DEPLETED               RIFT   8988         JURASSIC   \n",
       "5  DECLINING PRODUCTION     INVERSION/RIFT   5443         JURASSIC   \n",
       "6     MATURE PRODUCTION      INTRACRATONIC   3275    CARBONIFEROUS   \n",
       "\n",
       "             Lithology  Thickness (gross average ft)  \\\n",
       "0            SANDSTONE                         262.0   \n",
       "2            LIMESTONE                         250.0   \n",
       "3            SANDSTONE                         425.0   \n",
       "5             DOLOMITE                          82.0   \n",
       "6  DOLOMITIC LIMESTONE                          43.0   \n",
       "\n",
       "   Thickness (net pay average ft)  Porosity  Permeability  \n",
       "0                            33.0      24.0          30.0  \n",
       "2                           184.0      21.0         410.0  \n",
       "3                           300.0      22.0         750.0  \n",
       "5                            59.0      16.0          61.0  \n",
       "6                            15.5      10.0           2.6  "
      ]
     },
     "execution_count": 1496,
     "metadata": {},
     "output_type": "execute_result"
    }
   ],
   "source": [
    "train.head()"
   ]
  },
  {
   "cell_type": "code",
   "execution_count": 1497,
   "metadata": {
    "colab": {
     "base_uri": "https://localhost:8080/"
    },
    "id": "jgZ3WHqptK9S",
    "outputId": "66008c53-4ed4-4862-9744-cc166478cc35",
    "scrolled": true
   },
   "outputs": [
    {
     "data": {
      "text/plain": [
       "COMPRESSION                                                 65\n",
       "COMPRESSION/EROSION                                         23\n",
       "EXTENSION                                                   21\n",
       "COMPRESSION/EVAPORITE                                       19\n",
       "INVERSION/COMPRESSION/EXTENSION                             17\n",
       "EXTENSION/EROSION                                            8\n",
       "GRAVITY/EXTENSION/EVAPORITE                                  7\n",
       "GRAVITY/EXTENSION/EVAPORITE/SYNSEDIMENTATION                 7\n",
       "INVERSION/COMPRESSION/EXTENSION/EVAPORITE                    5\n",
       "GRAVITY/EVAPORITE/COMPRESSION                                5\n",
       "COMPRESSION/EXTENSION/LINKED                                 5\n",
       "INVERSION/COMPRESSION/EXTENSION/EVAPORITE/GRAVITY            5\n",
       "GRAVITY/EVAPORITE/EXTENSION                                  4\n",
       "COMPRESSION/EROSION/EXTENSION/LINKED                         3\n",
       "COMPRESSION/EVAPORITE/EXTENSION/LINKED                       3\n",
       "EXTENSION/EVAPORITE/EROSION/GRAVITY                          3\n",
       "COMPRESSION/EXTENSION/EVAPORITE                              3\n",
       "INVERSION/STRIKE-SLIP/TRANSPRESSION/EXTENSION/BASEMENT-I     3\n",
       "GRAVITY/EXTENSION/SHALE/SYNSEDIMENTATION                     3\n",
       "INVERSION/COMPRESSION/EXTENSION/EROSION                      2\n",
       "EXTENSION/EVAPORITE/GRAVITY                                  2\n",
       "COMPRESSION/SHALE                                            2\n",
       "COMPRESSION/EROSION/GRAVITY/EVAPORITE/EXTENSION              2\n",
       "EXTENSION/EVAPORITE                                          2\n",
       "STRIKE-SLIP/TRANSTENSION/SHALE/EVAPORITE/BASEMENT-I          2\n",
       "COMPRESSION/EXTENSION/EROSION                                1\n",
       "TRANSPRESSION/UPLIFT                                         1\n",
       "STRIKE-SLIP/TRANSPRESSION/BASEMENT-I                         1\n",
       "EXTENSION/EVAPORITE/INVERSION                                1\n",
       "STRIKE-SLIP/TRANSPRESSION                                    1\n",
       "COMPRESSION/EXTENSION/EROSION/EVAPORITE                      1\n",
       "COMPRESSION/EXTENSION/LINKED/EROSION                         1\n",
       "GRAVITY/EXTENSION/EVAPORITE/DIAPIR                           1\n",
       "INVERSION/COMPRESSION/EVAPORITE/EROSION                      1\n",
       "COMPRESSION/SHALE/REACTIVATION/BASEMENT-I                    1\n",
       "GRAVITY/EXTENSION/EVAPORITE/DIAPIR/SYNSEDIMENTATION          1\n",
       "COMPRESSION/EVAPORITE/GRAVITY                                1\n",
       "COMPRESSION/STRIKE-SLIP/TRANSPRESSION/BASEMENT-I             1\n",
       "COMPRESSION/GRAVITY/EVAPORITE/EXTENSION/LINKED               1\n",
       "INVERSION/EXTENSION/COMPRESSION                              1\n",
       "COMPRESSION/EROSION/EXTENSION                                1\n",
       "EXTENSION/TRANSTENSION                                       1\n",
       "STRIKE-SLIP/TRANSTENSION/BASEMENT-I                          1\n",
       "EXTENSION/INVERSION                                          1\n",
       "TRANSTENSION/EXTENSION/SHALE/LINKED                          1\n",
       "GRAVITY/SHALE/EXTENSION/SYNSEDIMENTATION                     1\n",
       "Name: Tectonic regime, dtype: int64"
      ]
     },
     "execution_count": 1497,
     "metadata": {},
     "output_type": "execute_result"
    }
   ],
   "source": [
    "train['Tectonic regime'].value_counts()"
   ]
  },
  {
   "cell_type": "code",
   "execution_count": 1498,
   "metadata": {
    "scrolled": true
   },
   "outputs": [
    {
     "data": {
      "text/plain": [
       "(242, 41)"
      ]
     },
     "execution_count": 1498,
     "metadata": {},
     "output_type": "execute_result"
    }
   ],
   "source": [
    "train.drop(columns = 'Basin name', inplace = True)\n",
    "mult_name = ['Tectonic regime', 'Structural setting']\n",
    "di = {'Tectonic regime' : [], 'Structural setting' : []}\n",
    "df = train.copy()\n",
    "for col in mult_name:\n",
    "    for s in df[col]:\n",
    "        new_str = s.split('/')\n",
    "        di[col].extend(new_str)\n",
    "    arr = np.array(di[col])\n",
    "    values, counts = np.unique(arr, return_counts = True)\n",
    "    list_to_del = []\n",
    "    for i in range(len(counts) - 1, -1, -1):\n",
    "        if counts[i] < 5:\n",
    "            list_to_del.append(i)\n",
    "    #\n",
    "    values = list(values)\n",
    "    for i in list_to_del:\n",
    "        del values[i]\n",
    "    #col_names = list(map(lambda x: col[:4] + '_' + x, values + ['OTHERS']))\n",
    "    for val in values:\n",
    "        df[col[:4] + '_' + val] = df[col].apply(lambda x : x.split('/').count(val))\n",
    "        test[col[:4] + '_' + val] = 0\n",
    "df.drop(mult_name, axis = 1, inplace = True)\n",
    "train = df.copy()\n",
    "train.shape\n"
   ]
  },
  {
   "cell_type": "code",
   "execution_count": 1499,
   "metadata": {},
   "outputs": [
    {
     "data": {
      "text/plain": [
       "(133, 41)"
      ]
     },
     "execution_count": 1499,
     "metadata": {},
     "output_type": "execute_result"
    }
   ],
   "source": [
    "test.drop(columns = 'Basin name', inplace = True)\n",
    "mult_name = ['Tectonic regime', 'Structural setting']\n",
    "di = {'Tectonic regime' : [], 'Structural setting' : []}\n",
    "df = test.copy()\n",
    "for col in mult_name:\n",
    "    for s in df[col]:\n",
    "        new_str = s.split('/')\n",
    "        di[col].extend(new_str)\n",
    "    arr = np.array(di[col])\n",
    "    values, counts = np.unique(arr, return_counts = True)\n",
    "    list_to_del = []\n",
    "    for i in range(len(counts) - 1, -1, -1):\n",
    "        if counts[i] < 5:\n",
    "            list_to_del.append(i)\n",
    "    #\n",
    "    values = list(values)\n",
    "    for i in list_to_del:\n",
    "        del values[i]\n",
    "    #col_names = list(map(lambda x: col[:4] + '_' + x, values + ['OTHERS']))\n",
    "    for val in values:\n",
    "        df[col[:4] + '_' + val] = df[col].apply(lambda x : x.split('/').count(val))\n",
    "df.drop(mult_name, axis = 1, inplace = True)\n",
    "test = df.copy()\n",
    "test.shape"
   ]
  },
  {
   "cell_type": "code",
   "execution_count": 1500,
   "metadata": {
    "colab": {
     "base_uri": "https://localhost:8080/"
    },
    "id": "2liQIgyKwp_h",
    "outputId": "c77c6080-7676-4f9d-9def-0828af78d573"
   },
   "outputs": [
    {
     "data": {
      "text/plain": [
       "OIL               177\n",
       "GAS                39\n",
       "GAS-CONDENSATE     25\n",
       "CARBON DIOXIDE      1\n",
       "Name: Hydrocarbon type, dtype: int64"
      ]
     },
     "execution_count": 1500,
     "metadata": {},
     "output_type": "execute_result"
    }
   ],
   "source": [
    "train['Hydrocarbon type'].value_counts()"
   ]
  },
  {
   "cell_type": "code",
   "execution_count": 1501,
   "metadata": {},
   "outputs": [],
   "source": [
    "train = train[train['Hydrocarbon type'] != 'CARBON DIOXIDE']\n",
    "test = test[test['Hydrocarbon type'] != 'CARBON DIOXIDE']"
   ]
  },
  {
   "cell_type": "code",
   "execution_count": 1502,
   "metadata": {
    "colab": {
     "base_uri": "https://localhost:8080/"
    },
    "id": "YCya1OjzwzdH",
    "outputId": "363f39b7-2917-4ad0-9f5c-9bd9ea0b230d",
    "scrolled": true
   },
   "outputs": [
    {
     "data": {
      "text/plain": [
       "ERSKINE              3\n",
       "ZAKUM                3\n",
       "LAOJUNMIAO           3\n",
       "MISKAR               2\n",
       "CHATEAURENARD        2\n",
       "                    ..\n",
       "BIBI HAKIMEH         1\n",
       "MITSUE               1\n",
       "GASIKULE             1\n",
       "NORTH SABINE LAKE    1\n",
       "WELL DRAW            1\n",
       "Name: Field name, Length: 223, dtype: int64"
      ]
     },
     "execution_count": 1502,
     "metadata": {},
     "output_type": "execute_result"
    }
   ],
   "source": [
    "train['Field name'].value_counts()"
   ]
  },
  {
   "cell_type": "code",
   "execution_count": 1503,
   "metadata": {},
   "outputs": [],
   "source": [
    "train.drop(columns = ['Field name'], inplace = True)\n",
    "test.drop(columns = ['Field name'], inplace = True)"
   ]
  },
  {
   "cell_type": "code",
   "execution_count": 1504,
   "metadata": {
    "colab": {
     "base_uri": "https://localhost:8080/"
    },
    "id": "nr_hVdePwu4R",
    "outputId": "588bd946-8532-43d2-d6e2-5c4dc7f55503"
   },
   "outputs": [
    {
     "data": {
      "text/plain": [
       "SAN ANDRES                 7\n",
       "BRENT                      6\n",
       "SHUAIBA                    5\n",
       "TOR-EKOFISK                4\n",
       "LEMAN SANDSTONE            4\n",
       "                          ..\n",
       "CLEARFORK-GLORIETA         1\n",
       "MISSION CANYON             1\n",
       "DAKOTA SANDSTONE           1\n",
       "ASMARI                     1\n",
       "MESAVERDE (TEAPOT SAND)    1\n",
       "Name: Reservoir unit, Length: 204, dtype: int64"
      ]
     },
     "execution_count": 1504,
     "metadata": {},
     "output_type": "execute_result"
    }
   ],
   "source": [
    "train['Reservoir unit'].value_counts()"
   ]
  },
  {
   "cell_type": "code",
   "execution_count": 1505,
   "metadata": {},
   "outputs": [],
   "source": [
    "train.drop(columns = ['Reservoir unit'], inplace = True)\n",
    "test.drop(columns = ['Reservoir unit'], inplace = True)"
   ]
  },
  {
   "cell_type": "code",
   "execution_count": 1506,
   "metadata": {
    "colab": {
     "base_uri": "https://localhost:8080/"
    },
    "id": "vETXPuaxw_xY",
    "outputId": "6fff3f10-7a4a-4f3f-bea9-505d644678bc"
   },
   "outputs": [
    {
     "data": {
      "text/plain": [
       "USA                 69\n",
       "CANADA              26\n",
       "Missing             21\n",
       "UK                  20\n",
       "RUSSIA              16\n",
       "CHINA               15\n",
       "EGYPT                7\n",
       "NORWAY               7\n",
       "OMAN                 6\n",
       "FRANCE               5\n",
       "VENEZUELA            4\n",
       "AUSTRALIA            4\n",
       "INDONESIA            4\n",
       "UAE                  4\n",
       "QATAR                3\n",
       "BRAZIL               3\n",
       "SAUDI ARABIA         2\n",
       "TUNISIA              2\n",
       "TURKMENISTAN         2\n",
       "INDIA                2\n",
       "PAPUA NEW GUINEA     2\n",
       "AFGHANISTAN          1\n",
       "SOUTH AFRICA         1\n",
       "TUNISIA /ALGERIA     1\n",
       "IRAQ                 1\n",
       "DENMARK              1\n",
       "ALGERIA              1\n",
       "ANGOLA               1\n",
       "NEUTRAL ZONE         1\n",
       "IRAN                 1\n",
       "THAILAND             1\n",
       "LIBYA                1\n",
       "TURKEY               1\n",
       "KAZAKHSTAN           1\n",
       "COLOMBIA             1\n",
       "UZBEKISTAN           1\n",
       "UK /NORWAY           1\n",
       "MALAYSIA             1\n",
       "Name: Country, dtype: int64"
      ]
     },
     "execution_count": 1506,
     "metadata": {},
     "output_type": "execute_result"
    }
   ],
   "source": [
    "train['Country'].value_counts()"
   ]
  },
  {
   "cell_type": "code",
   "execution_count": 1507,
   "metadata": {},
   "outputs": [],
   "source": [
    "def f(x):\n",
    "    if (any(train['Country'] == x)) and (train['Country'].value_counts()[x] >= 14):\n",
    "        return(x)\n",
    "    else:  \n",
    "        return('OTHER')"
   ]
  },
  {
   "cell_type": "code",
   "execution_count": 1508,
   "metadata": {},
   "outputs": [],
   "source": [
    "train['Country'] = train['Country'].apply(f)\n",
    "test['Country'] = test['Country'].apply(f)"
   ]
  },
  {
   "cell_type": "code",
   "execution_count": 1509,
   "metadata": {
    "colab": {
     "base_uri": "https://localhost:8080/",
     "height": 537
    },
    "id": "8V0G9uiy4taV",
    "outputId": "d768b9df-d558-42d4-bf7f-3d5160070172"
   },
   "outputs": [
    {
     "name": "stderr",
     "output_type": "stream",
     "text": [
      "D:\\all\\anaconda\\lib\\site-packages\\seaborn\\_decorators.py:36: FutureWarning: Pass the following variable as a keyword arg: x. From version 0.12, the only valid positional argument will be `data`, and passing other arguments without an explicit keyword will result in an error or misinterpretation.\n",
      "  warnings.warn(\n",
      "D:\\all\\anaconda\\lib\\site-packages\\seaborn\\_decorators.py:36: FutureWarning: Pass the following variable as a keyword arg: x. From version 0.12, the only valid positional argument will be `data`, and passing other arguments without an explicit keyword will result in an error or misinterpretation.\n",
      "  warnings.warn(\n",
      "C:\\Users\\Nikita\\AppData\\Local\\Temp/ipykernel_9036/1311538264.py:8: UserWarning: Matplotlib is currently using module://matplotlib_inline.backend_inline, which is a non-GUI backend, so cannot show the figure.\n",
      "  fig.show()\n"
     ]
    },
    {
     "data": {
      "image/png": "[encoded data removed]",
      "text/plain": [
       "<Figure size 1080x504 with 2 Axes>"
      ]
     },
     "metadata": {},
     "output_type": "display_data"
    }
   ],
   "source": [
    "sns.set(style=\"white\")\n",
    "sns.set(style=\"whitegrid\", color_codes=True)\n",
    "\n",
    "fig, ax = plt.subplots(1,2, figsize=(15, 7))\n",
    "\n",
    "sns.countplot(train['Hydrocarbon type'], ax=ax[0], palette='hls')\n",
    "sns.countplot(train['Onshore/Offshore'], ax=ax[1], palette='hls')\n",
    "fig.show()"
   ]
  },
  {
   "cell_type": "markdown",
   "metadata": {},
   "source": [
    "Баланс?"
   ]
  },
  {
   "cell_type": "code",
   "execution_count": 1510,
   "metadata": {
    "colab": {
     "base_uri": "https://localhost:8080/"
    },
    "id": "VOijlncgwuRb",
    "outputId": "8ef7527b-5eb3-4f87-b26b-4ecefb4696cd"
   },
   "outputs": [
    {
     "data": {
      "text/plain": [
       "ONSHORE             178\n",
       "OFFSHORE             60\n",
       "ONSHORE-OFFSHORE      3\n",
       "Name: Onshore/Offshore, dtype: int64"
      ]
     },
     "execution_count": 1510,
     "metadata": {},
     "output_type": "execute_result"
    }
   ],
   "source": [
    "train['Onshore/Offshore'].value_counts()"
   ]
  },
  {
   "cell_type": "code",
   "execution_count": 1511,
   "metadata": {},
   "outputs": [],
   "source": [
    "categ = ['Hydrocarbon type', 'Reservoir status', 'Reservoir period', 'Lithology', 'Region']"
   ]
  },
  {
   "cell_type": "code",
   "execution_count": 1512,
   "metadata": {},
   "outputs": [],
   "source": [
    "for i in categ:\n",
    "    s = test[i].value_counts().index[0]\n",
    "    vals = set(test[i].unique()).difference(set(train[i].unique()))\n",
    "    test[i] = test[i].replace(vals, s)"
   ]
  },
  {
   "cell_type": "code",
   "execution_count": 1513,
   "metadata": {
    "colab": {
     "base_uri": "https://localhost:8080/",
     "height": 389
    },
    "id": "T06ql9Jh50yB",
    "outputId": "03d95638-865a-4e6d-c158-7e4d26cedfbb"
   },
   "outputs": [],
   "source": [
    "from sklearn import preprocessing\n",
    "# Encode Categorical Columns\n",
    "le = preprocessing.LabelEncoder()\n",
    "train['Onshore/Offshore'] = le.fit_transform(train['Onshore/Offshore'])"
   ]
  },
  {
   "cell_type": "code",
   "execution_count": 1514,
   "metadata": {
    "colab": {
     "base_uri": "https://localhost:8080/"
    },
    "id": "itGtGOc86NoX",
    "outputId": "552587f3-148e-4842-97ce-ec5a86693ca9"
   },
   "outputs": [
    {
     "data": {
      "text/plain": [
       "{0: 'OFFSHORE', 1: 'ONSHORE', 2: 'ONSHORE-OFFSHORE'}"
      ]
     },
     "execution_count": 1514,
     "metadata": {},
     "output_type": "execute_result"
    }
   ],
   "source": [
    "mapping = dict(zip(range(len(le.classes_)), le.classes_))\n",
    "mapping"
   ]
  },
  {
   "cell_type": "code",
   "execution_count": 1515,
   "metadata": {
    "colab": {
     "base_uri": "https://localhost:8080/",
     "height": 372
    },
    "id": "OpkQGmE0DmUz",
    "outputId": "5060e831-7d2d-4636-b262-359fa1a3cccc"
   },
   "outputs": [],
   "source": [
    "from sklearn import preprocessing\n",
    "# Encode Categorical Columns\n",
    "le = preprocessing.LabelEncoder()\n",
    "train['Region'] = le.fit_transform(train['Region'])\n",
    "test['Region'] = le.transform(test['Region'])"
   ]
  },
  {
   "cell_type": "code",
   "execution_count": 1516,
   "metadata": {
    "colab": {
     "base_uri": "https://localhost:8080/",
     "height": 337
    },
    "id": "81xbzd2r5_4-",
    "outputId": "e1b9f346-c75a-4e3f-a8c2-f13797736926",
    "scrolled": true
   },
   "outputs": [
    {
     "data": {
      "text/html": [
       "<div>\n",
       "<style scoped>\n",
       "    .dataframe tbody tr th:only-of-type {\n",
       "        vertical-align: middle;\n",
       "    }\n",
       "\n",
       "    .dataframe tbody tr th {\n",
       "        vertical-align: top;\n",
       "    }\n",
       "\n",
       "    .dataframe thead th {\n",
       "        text-align: right;\n",
       "    }\n",
       "</style>\n",
       "<table border=\"1\" class=\"dataframe\">\n",
       "  <thead>\n",
       "    <tr style=\"text-align: right;\">\n",
       "      <th></th>\n",
       "      <th>Country</th>\n",
       "      <th>Region</th>\n",
       "      <th>Latitude</th>\n",
       "      <th>Longitude</th>\n",
       "      <th>Operator company</th>\n",
       "      <th>Onshore/Offshore</th>\n",
       "      <th>Hydrocarbon type</th>\n",
       "      <th>Reservoir status</th>\n",
       "      <th>Depth</th>\n",
       "      <th>Reservoir period</th>\n",
       "      <th>Lithology</th>\n",
       "      <th>Thickness (gross average ft)</th>\n",
       "      <th>Thickness (net pay average ft)</th>\n",
       "      <th>Porosity</th>\n",
       "      <th>Permeability</th>\n",
       "      <th>Tect_BASEMENT-I</th>\n",
       "      <th>Tect_COMPRESSION</th>\n",
       "      <th>Tect_EROSION</th>\n",
       "      <th>Tect_EVAPORITE</th>\n",
       "      <th>Tect_EXTENSION</th>\n",
       "      <th>Tect_GRAVITY</th>\n",
       "      <th>Tect_INVERSION</th>\n",
       "      <th>Tect_LINKED</th>\n",
       "      <th>Tect_SHALE</th>\n",
       "      <th>Tect_STRIKE-SLIP</th>\n",
       "      <th>Tect_SYNSEDIMENTATION</th>\n",
       "      <th>Tect_TRANSPRESSION</th>\n",
       "      <th>Tect_TRANSTENSION</th>\n",
       "      <th>Stru_DELTA</th>\n",
       "      <th>Stru_FORELAND</th>\n",
       "      <th>Stru_INTRACRATONIC</th>\n",
       "      <th>Stru_INVERSION</th>\n",
       "      <th>Stru_PASSIVE MARGIN</th>\n",
       "      <th>Stru_RIFT</th>\n",
       "      <th>Stru_SALT</th>\n",
       "      <th>Stru_SUB-SALT</th>\n",
       "      <th>Stru_SUB-THRUST</th>\n",
       "      <th>Stru_THRUST</th>\n",
       "      <th>Stru_WRENCH</th>\n",
       "    </tr>\n",
       "  </thead>\n",
       "  <tbody>\n",
       "    <tr>\n",
       "      <th>0</th>\n",
       "      <td>RUSSIA</td>\n",
       "      <td>3</td>\n",
       "      <td>51.0000</td>\n",
       "      <td>44.8042</td>\n",
       "      <td>NIZHNEVOLZHSKNET</td>\n",
       "      <td>1</td>\n",
       "      <td>OIL</td>\n",
       "      <td>2</td>\n",
       "      <td>1870</td>\n",
       "      <td>CARBONIFEROUS</td>\n",
       "      <td>SANDSTONE</td>\n",
       "      <td>262.0</td>\n",
       "      <td>33.0</td>\n",
       "      <td>24.0</td>\n",
       "      <td>30.0</td>\n",
       "      <td>0</td>\n",
       "      <td>1</td>\n",
       "      <td>0</td>\n",
       "      <td>1</td>\n",
       "      <td>0</td>\n",
       "      <td>0</td>\n",
       "      <td>0</td>\n",
       "      <td>0</td>\n",
       "      <td>0</td>\n",
       "      <td>0</td>\n",
       "      <td>0</td>\n",
       "      <td>0</td>\n",
       "      <td>0</td>\n",
       "      <td>0</td>\n",
       "      <td>1</td>\n",
       "      <td>0</td>\n",
       "      <td>0</td>\n",
       "      <td>0</td>\n",
       "      <td>0</td>\n",
       "      <td>0</td>\n",
       "      <td>0</td>\n",
       "      <td>0</td>\n",
       "      <td>0</td>\n",
       "      <td>0</td>\n",
       "    </tr>\n",
       "    <tr>\n",
       "      <th>2</th>\n",
       "      <td>OTHER</td>\n",
       "      <td>5</td>\n",
       "      <td>26.0800</td>\n",
       "      <td>49.8100</td>\n",
       "      <td>SAUDI ARAMCO</td>\n",
       "      <td>1</td>\n",
       "      <td>OIL</td>\n",
       "      <td>8</td>\n",
       "      <td>6050</td>\n",
       "      <td>JURASSIC</td>\n",
       "      <td>LIMESTONE</td>\n",
       "      <td>250.0</td>\n",
       "      <td>184.0</td>\n",
       "      <td>21.0</td>\n",
       "      <td>410.0</td>\n",
       "      <td>0</td>\n",
       "      <td>1</td>\n",
       "      <td>0</td>\n",
       "      <td>1</td>\n",
       "      <td>0</td>\n",
       "      <td>0</td>\n",
       "      <td>0</td>\n",
       "      <td>0</td>\n",
       "      <td>0</td>\n",
       "      <td>0</td>\n",
       "      <td>0</td>\n",
       "      <td>0</td>\n",
       "      <td>0</td>\n",
       "      <td>0</td>\n",
       "      <td>1</td>\n",
       "      <td>0</td>\n",
       "      <td>0</td>\n",
       "      <td>0</td>\n",
       "      <td>0</td>\n",
       "      <td>0</td>\n",
       "      <td>0</td>\n",
       "      <td>0</td>\n",
       "      <td>0</td>\n",
       "      <td>0</td>\n",
       "    </tr>\n",
       "    <tr>\n",
       "      <th>3</th>\n",
       "      <td>OTHER</td>\n",
       "      <td>1</td>\n",
       "      <td>61.3833</td>\n",
       "      <td>1.7500</td>\n",
       "      <td>CNR</td>\n",
       "      <td>0</td>\n",
       "      <td>OIL</td>\n",
       "      <td>6</td>\n",
       "      <td>8988</td>\n",
       "      <td>JURASSIC</td>\n",
       "      <td>SANDSTONE</td>\n",
       "      <td>425.0</td>\n",
       "      <td>300.0</td>\n",
       "      <td>22.0</td>\n",
       "      <td>750.0</td>\n",
       "      <td>0</td>\n",
       "      <td>0</td>\n",
       "      <td>0</td>\n",
       "      <td>0</td>\n",
       "      <td>1</td>\n",
       "      <td>0</td>\n",
       "      <td>0</td>\n",
       "      <td>0</td>\n",
       "      <td>0</td>\n",
       "      <td>0</td>\n",
       "      <td>0</td>\n",
       "      <td>0</td>\n",
       "      <td>0</td>\n",
       "      <td>0</td>\n",
       "      <td>0</td>\n",
       "      <td>0</td>\n",
       "      <td>0</td>\n",
       "      <td>0</td>\n",
       "      <td>1</td>\n",
       "      <td>0</td>\n",
       "      <td>0</td>\n",
       "      <td>0</td>\n",
       "      <td>0</td>\n",
       "      <td>0</td>\n",
       "    </tr>\n",
       "    <tr>\n",
       "      <th>5</th>\n",
       "      <td>OTHER</td>\n",
       "      <td>3</td>\n",
       "      <td>40.1494</td>\n",
       "      <td>62.9906</td>\n",
       "      <td>SREDAZGAZPROM</td>\n",
       "      <td>1</td>\n",
       "      <td>GAS</td>\n",
       "      <td>2</td>\n",
       "      <td>5443</td>\n",
       "      <td>JURASSIC</td>\n",
       "      <td>DOLOMITE</td>\n",
       "      <td>82.0</td>\n",
       "      <td>59.0</td>\n",
       "      <td>16.0</td>\n",
       "      <td>61.0</td>\n",
       "      <td>0</td>\n",
       "      <td>1</td>\n",
       "      <td>0</td>\n",
       "      <td>1</td>\n",
       "      <td>1</td>\n",
       "      <td>0</td>\n",
       "      <td>1</td>\n",
       "      <td>0</td>\n",
       "      <td>0</td>\n",
       "      <td>0</td>\n",
       "      <td>0</td>\n",
       "      <td>0</td>\n",
       "      <td>0</td>\n",
       "      <td>0</td>\n",
       "      <td>0</td>\n",
       "      <td>0</td>\n",
       "      <td>1</td>\n",
       "      <td>0</td>\n",
       "      <td>1</td>\n",
       "      <td>0</td>\n",
       "      <td>0</td>\n",
       "      <td>0</td>\n",
       "      <td>0</td>\n",
       "      <td>0</td>\n",
       "    </tr>\n",
       "    <tr>\n",
       "      <th>6</th>\n",
       "      <td>USA</td>\n",
       "      <td>7</td>\n",
       "      <td>48.8521</td>\n",
       "      <td>-101.0130</td>\n",
       "      <td>AMERADA HESS</td>\n",
       "      <td>1</td>\n",
       "      <td>OIL</td>\n",
       "      <td>5</td>\n",
       "      <td>3275</td>\n",
       "      <td>CARBONIFEROUS</td>\n",
       "      <td>DOLOMITIC LIMESTONE</td>\n",
       "      <td>43.0</td>\n",
       "      <td>15.5</td>\n",
       "      <td>10.0</td>\n",
       "      <td>2.6</td>\n",
       "      <td>0</td>\n",
       "      <td>1</td>\n",
       "      <td>0</td>\n",
       "      <td>0</td>\n",
       "      <td>0</td>\n",
       "      <td>0</td>\n",
       "      <td>0</td>\n",
       "      <td>0</td>\n",
       "      <td>0</td>\n",
       "      <td>0</td>\n",
       "      <td>0</td>\n",
       "      <td>0</td>\n",
       "      <td>0</td>\n",
       "      <td>0</td>\n",
       "      <td>0</td>\n",
       "      <td>1</td>\n",
       "      <td>0</td>\n",
       "      <td>0</td>\n",
       "      <td>0</td>\n",
       "      <td>0</td>\n",
       "      <td>0</td>\n",
       "      <td>0</td>\n",
       "      <td>0</td>\n",
       "      <td>0</td>\n",
       "    </tr>\n",
       "  </tbody>\n",
       "</table>\n",
       "</div>"
      ],
      "text/plain": [
       "  Country  Region  Latitude  Longitude  Operator company  Onshore/Offshore  \\\n",
       "0  RUSSIA       3   51.0000    44.8042  NIZHNEVOLZHSKNET                 1   \n",
       "2   OTHER       5   26.0800    49.8100      SAUDI ARAMCO                 1   \n",
       "3   OTHER       1   61.3833     1.7500               CNR                 0   \n",
       "5   OTHER       3   40.1494    62.9906     SREDAZGAZPROM                 1   \n",
       "6     USA       7   48.8521  -101.0130      AMERADA HESS                 1   \n",
       "\n",
       "  Hydrocarbon type  Reservoir status  Depth Reservoir period  \\\n",
       "0              OIL                 2   1870    CARBONIFEROUS   \n",
       "2              OIL                 8   6050         JURASSIC   \n",
       "3              OIL                 6   8988         JURASSIC   \n",
       "5              GAS                 2   5443         JURASSIC   \n",
       "6              OIL                 5   3275    CARBONIFEROUS   \n",
       "\n",
       "             Lithology  Thickness (gross average ft)  \\\n",
       "0            SANDSTONE                         262.0   \n",
       "2            LIMESTONE                         250.0   \n",
       "3            SANDSTONE                         425.0   \n",
       "5             DOLOMITE                          82.0   \n",
       "6  DOLOMITIC LIMESTONE                          43.0   \n",
       "\n",
       "   Thickness (net pay average ft)  Porosity  Permeability  Tect_BASEMENT-I  \\\n",
       "0                            33.0      24.0          30.0                0   \n",
       "2                           184.0      21.0         410.0                0   \n",
       "3                           300.0      22.0         750.0                0   \n",
       "5                            59.0      16.0          61.0                0   \n",
       "6                            15.5      10.0           2.6                0   \n",
       "\n",
       "   Tect_COMPRESSION  Tect_EROSION  Tect_EVAPORITE  Tect_EXTENSION  \\\n",
       "0                 1             0               1               0   \n",
       "2                 1             0               1               0   \n",
       "3                 0             0               0               1   \n",
       "5                 1             0               1               1   \n",
       "6                 1             0               0               0   \n",
       "\n",
       "   Tect_GRAVITY  Tect_INVERSION  Tect_LINKED  Tect_SHALE  Tect_STRIKE-SLIP  \\\n",
       "0             0               0            0           0                 0   \n",
       "2             0               0            0           0                 0   \n",
       "3             0               0            0           0                 0   \n",
       "5             0               1            0           0                 0   \n",
       "6             0               0            0           0                 0   \n",
       "\n",
       "   Tect_SYNSEDIMENTATION  Tect_TRANSPRESSION  Tect_TRANSTENSION  Stru_DELTA  \\\n",
       "0                      0                   0                  0           0   \n",
       "2                      0                   0                  0           0   \n",
       "3                      0                   0                  0           0   \n",
       "5                      0                   0                  0           0   \n",
       "6                      0                   0                  0           0   \n",
       "\n",
       "   Stru_FORELAND  Stru_INTRACRATONIC  Stru_INVERSION  Stru_PASSIVE MARGIN  \\\n",
       "0              1                   0               0                    0   \n",
       "2              1                   0               0                    0   \n",
       "3              0                   0               0                    0   \n",
       "5              0                   0               1                    0   \n",
       "6              0                   1               0                    0   \n",
       "\n",
       "   Stru_RIFT  Stru_SALT  Stru_SUB-SALT  Stru_SUB-THRUST  Stru_THRUST  \\\n",
       "0          0          0              0                0            0   \n",
       "2          0          0              0                0            0   \n",
       "3          1          0              0                0            0   \n",
       "5          1          0              0                0            0   \n",
       "6          0          0              0                0            0   \n",
       "\n",
       "   Stru_WRENCH  \n",
       "0            0  \n",
       "2            0  \n",
       "3            0  \n",
       "5            0  \n",
       "6            0  "
      ]
     },
     "execution_count": 1516,
     "metadata": {},
     "output_type": "execute_result"
    }
   ],
   "source": [
    "from sklearn import preprocessing\n",
    "# Encode Categorical Columns\n",
    "le = preprocessing.LabelEncoder()\n",
    "train['Reservoir status'] = le.fit_transform(train['Reservoir status'])\n",
    "test['Reservoir status'] = le.transform(test['Reservoir status'])\n",
    "train.head()"
   ]
  },
  {
   "cell_type": "code",
   "execution_count": 1517,
   "metadata": {
    "colab": {
     "base_uri": "https://localhost:8080/",
     "height": 456
    },
    "id": "13OhHHrP732-",
    "outputId": "81850019-1186-414a-f3f5-96b4cb6303be"
   },
   "outputs": [],
   "source": [
    "train = pd.get_dummies(train, columns=['Hydrocarbon type', 'Reservoir period', 'Lithology', 'Country'], drop_first = True)"
   ]
  },
  {
   "cell_type": "code",
   "execution_count": 1518,
   "metadata": {},
   "outputs": [],
   "source": [
    "test =  pd.get_dummies(test, columns=['Hydrocarbon type', 'Reservoir period', 'Lithology', 'Country'], drop_first = True)"
   ]
  },
  {
   "cell_type": "code",
   "execution_count": 1519,
   "metadata": {
    "scrolled": false
   },
   "outputs": [
    {
     "data": {
      "text/plain": [
       "(241, 73)"
      ]
     },
     "execution_count": 1519,
     "metadata": {},
     "output_type": "execute_result"
    }
   ],
   "source": [
    "train.shape"
   ]
  },
  {
   "cell_type": "code",
   "execution_count": 1520,
   "metadata": {
    "id": "SHIUKxkCCc5w"
   },
   "outputs": [],
   "source": [
    "crr = train.corr()"
   ]
  },
  {
   "cell_type": "code",
   "execution_count": 1521,
   "metadata": {
    "colab": {
     "base_uri": "https://localhost:8080/"
    },
    "id": "AQkfnqwhEOQO",
    "outputId": "27b26976-706d-4935-aaaf-94e067d58bc0"
   },
   "outputs": [
    {
     "data": {
      "text/plain": [
       "Index(['Region', 'Latitude', 'Longitude', 'Operator company',\n",
       "       'Onshore/Offshore', 'Reservoir status', 'Depth',\n",
       "       'Thickness (gross average ft)', 'Thickness (net pay average ft)',\n",
       "       'Porosity', 'Permeability', 'Tect_BASEMENT-I', 'Tect_COMPRESSION',\n",
       "       'Tect_EROSION', 'Tect_EVAPORITE', 'Tect_EXTENSION', 'Tect_GRAVITY',\n",
       "       'Tect_INVERSION', 'Tect_LINKED', 'Tect_SHALE', 'Tect_STRIKE-SLIP',\n",
       "       'Tect_SYNSEDIMENTATION', 'Tect_TRANSPRESSION', 'Tect_TRANSTENSION',\n",
       "       'Stru_DELTA', 'Stru_FORELAND', 'Stru_INTRACRATONIC', 'Stru_INVERSION',\n",
       "       'Stru_PASSIVE MARGIN', 'Stru_RIFT', 'Stru_SALT', 'Stru_SUB-SALT',\n",
       "       'Stru_SUB-THRUST', 'Stru_THRUST', 'Stru_WRENCH',\n",
       "       'Hydrocarbon type_GAS-CONDENSATE', 'Hydrocarbon type_OIL',\n",
       "       'Reservoir period_CAMBRIAN-ORDOVICIAN',\n",
       "       'Reservoir period_CARBONIFEROUS',\n",
       "       'Reservoir period_CARBONIFEROUS-PERMIAN', 'Reservoir period_CRETACEOUS',\n",
       "       'Reservoir period_CRETACEOUS-PALEOGENE', 'Reservoir period_DEVONIAN',\n",
       "       'Reservoir period_JURASSIC', 'Reservoir period_JURASSIC-CRETACEOUS',\n",
       "       'Reservoir period_MESOZOIC', 'Reservoir period_NEOGENE',\n",
       "       'Reservoir period_ORDOVICIAN', 'Reservoir period_PALEOGENE',\n",
       "       'Reservoir period_PALEOGENE-NEOGENE', 'Reservoir period_PALEOZOIC',\n",
       "       'Reservoir period_PERMIAN', 'Reservoir period_PROTEROZOIC',\n",
       "       'Reservoir period_TRIASSIC', 'Reservoir period_TRIASSIC-JURASSIC',\n",
       "       'Lithology_CHALKY LIMESTONE', 'Lithology_CONGLOMERATE',\n",
       "       'Lithology_DOLOMITE', 'Lithology_DOLOMITIC LIMESTONE',\n",
       "       'Lithology_LIMESTONE', 'Lithology_LOW-RESISTIVITY SANDSTONE',\n",
       "       'Lithology_SANDSTONE', 'Lithology_SHALE', 'Lithology_SHALY SANDSTONE',\n",
       "       'Lithology_SILTSTONE', 'Lithology_THINLY-BEDDED SANDSTONE',\n",
       "       'Lithology_VOLCANICS', 'Country_CHINA', 'Country_Missing',\n",
       "       'Country_OTHER', 'Country_RUSSIA', 'Country_UK', 'Country_USA'],\n",
       "      dtype='object')"
      ]
     },
     "execution_count": 1521,
     "metadata": {},
     "output_type": "execute_result"
    }
   ],
   "source": [
    "train.columns"
   ]
  },
  {
   "cell_type": "code",
   "execution_count": 1522,
   "metadata": {},
   "outputs": [],
   "source": [
    "train.drop(columns = 'Operator company', inplace =True)\n",
    "test.drop(columns = 'Operator company', inplace =True)"
   ]
  },
  {
   "cell_type": "code",
   "execution_count": 1523,
   "metadata": {
    "colab": {
     "base_uri": "https://localhost:8080/",
     "height": 456
    },
    "id": "vfwkviF7hMVf",
    "outputId": "ecdce071-ce18-422b-86e8-8d0a415166d9"
   },
   "outputs": [
    {
     "data": {
      "text/html": [
       "<div>\n",
       "<style scoped>\n",
       "    .dataframe tbody tr th:only-of-type {\n",
       "        vertical-align: middle;\n",
       "    }\n",
       "\n",
       "    .dataframe tbody tr th {\n",
       "        vertical-align: top;\n",
       "    }\n",
       "\n",
       "    .dataframe thead th {\n",
       "        text-align: right;\n",
       "    }\n",
       "</style>\n",
       "<table border=\"1\" class=\"dataframe\">\n",
       "  <thead>\n",
       "    <tr style=\"text-align: right;\">\n",
       "      <th></th>\n",
       "      <th>Region</th>\n",
       "      <th>Latitude</th>\n",
       "      <th>Longitude</th>\n",
       "      <th>Onshore/Offshore</th>\n",
       "      <th>Reservoir status</th>\n",
       "      <th>Depth</th>\n",
       "      <th>Thickness (gross average ft)</th>\n",
       "      <th>Thickness (net pay average ft)</th>\n",
       "      <th>Porosity</th>\n",
       "      <th>Permeability</th>\n",
       "      <th>Tect_BASEMENT-I</th>\n",
       "      <th>Tect_COMPRESSION</th>\n",
       "      <th>Tect_EROSION</th>\n",
       "      <th>Tect_EVAPORITE</th>\n",
       "      <th>Tect_EXTENSION</th>\n",
       "      <th>Tect_GRAVITY</th>\n",
       "      <th>Tect_INVERSION</th>\n",
       "      <th>Tect_LINKED</th>\n",
       "      <th>Tect_SHALE</th>\n",
       "      <th>Tect_STRIKE-SLIP</th>\n",
       "      <th>Tect_SYNSEDIMENTATION</th>\n",
       "      <th>Tect_TRANSPRESSION</th>\n",
       "      <th>Tect_TRANSTENSION</th>\n",
       "      <th>Stru_DELTA</th>\n",
       "      <th>Stru_FORELAND</th>\n",
       "      <th>Stru_INTRACRATONIC</th>\n",
       "      <th>Stru_INVERSION</th>\n",
       "      <th>Stru_PASSIVE MARGIN</th>\n",
       "      <th>Stru_RIFT</th>\n",
       "      <th>Stru_SALT</th>\n",
       "      <th>Stru_SUB-SALT</th>\n",
       "      <th>Stru_SUB-THRUST</th>\n",
       "      <th>Stru_THRUST</th>\n",
       "      <th>Stru_WRENCH</th>\n",
       "      <th>Hydrocarbon type_GAS-CONDENSATE</th>\n",
       "      <th>Hydrocarbon type_OIL</th>\n",
       "      <th>Reservoir period_CAMBRIAN-ORDOVICIAN</th>\n",
       "      <th>Reservoir period_CARBONIFEROUS</th>\n",
       "      <th>Reservoir period_CARBONIFEROUS-PERMIAN</th>\n",
       "      <th>Reservoir period_CRETACEOUS</th>\n",
       "      <th>Reservoir period_CRETACEOUS-PALEOGENE</th>\n",
       "      <th>Reservoir period_DEVONIAN</th>\n",
       "      <th>Reservoir period_JURASSIC</th>\n",
       "      <th>Reservoir period_JURASSIC-CRETACEOUS</th>\n",
       "      <th>Reservoir period_MESOZOIC</th>\n",
       "      <th>Reservoir period_NEOGENE</th>\n",
       "      <th>Reservoir period_ORDOVICIAN</th>\n",
       "      <th>Reservoir period_PALEOGENE</th>\n",
       "      <th>Reservoir period_PALEOGENE-NEOGENE</th>\n",
       "      <th>Reservoir period_PALEOZOIC</th>\n",
       "      <th>Reservoir period_PERMIAN</th>\n",
       "      <th>Reservoir period_PROTEROZOIC</th>\n",
       "      <th>Reservoir period_TRIASSIC</th>\n",
       "      <th>Reservoir period_TRIASSIC-JURASSIC</th>\n",
       "      <th>Lithology_CHALKY LIMESTONE</th>\n",
       "      <th>Lithology_CONGLOMERATE</th>\n",
       "      <th>Lithology_DOLOMITE</th>\n",
       "      <th>Lithology_DOLOMITIC LIMESTONE</th>\n",
       "      <th>Lithology_LIMESTONE</th>\n",
       "      <th>Lithology_LOW-RESISTIVITY SANDSTONE</th>\n",
       "      <th>Lithology_SANDSTONE</th>\n",
       "      <th>Lithology_SHALE</th>\n",
       "      <th>Lithology_SHALY SANDSTONE</th>\n",
       "      <th>Lithology_SILTSTONE</th>\n",
       "      <th>Lithology_THINLY-BEDDED SANDSTONE</th>\n",
       "      <th>Lithology_VOLCANICS</th>\n",
       "      <th>Country_CHINA</th>\n",
       "      <th>Country_Missing</th>\n",
       "      <th>Country_OTHER</th>\n",
       "      <th>Country_RUSSIA</th>\n",
       "      <th>Country_UK</th>\n",
       "      <th>Country_USA</th>\n",
       "    </tr>\n",
       "  </thead>\n",
       "  <tbody>\n",
       "    <tr>\n",
       "      <th>0</th>\n",
       "      <td>3</td>\n",
       "      <td>51.0000</td>\n",
       "      <td>44.8042</td>\n",
       "      <td>1</td>\n",
       "      <td>2</td>\n",
       "      <td>1870</td>\n",
       "      <td>262.0</td>\n",
       "      <td>33.0</td>\n",
       "      <td>24.0</td>\n",
       "      <td>30.0</td>\n",
       "      <td>0</td>\n",
       "      <td>1</td>\n",
       "      <td>0</td>\n",
       "      <td>1</td>\n",
       "      <td>0</td>\n",
       "      <td>0</td>\n",
       "      <td>0</td>\n",
       "      <td>0</td>\n",
       "      <td>0</td>\n",
       "      <td>0</td>\n",
       "      <td>0</td>\n",
       "      <td>0</td>\n",
       "      <td>0</td>\n",
       "      <td>0</td>\n",
       "      <td>1</td>\n",
       "      <td>0</td>\n",
       "      <td>0</td>\n",
       "      <td>0</td>\n",
       "      <td>0</td>\n",
       "      <td>0</td>\n",
       "      <td>0</td>\n",
       "      <td>0</td>\n",
       "      <td>0</td>\n",
       "      <td>0</td>\n",
       "      <td>0</td>\n",
       "      <td>1</td>\n",
       "      <td>0</td>\n",
       "      <td>1</td>\n",
       "      <td>0</td>\n",
       "      <td>0</td>\n",
       "      <td>0</td>\n",
       "      <td>0</td>\n",
       "      <td>0</td>\n",
       "      <td>0</td>\n",
       "      <td>0</td>\n",
       "      <td>0</td>\n",
       "      <td>0</td>\n",
       "      <td>0</td>\n",
       "      <td>0</td>\n",
       "      <td>0</td>\n",
       "      <td>0</td>\n",
       "      <td>0</td>\n",
       "      <td>0</td>\n",
       "      <td>0</td>\n",
       "      <td>0</td>\n",
       "      <td>0</td>\n",
       "      <td>0</td>\n",
       "      <td>0</td>\n",
       "      <td>0</td>\n",
       "      <td>0</td>\n",
       "      <td>1</td>\n",
       "      <td>0</td>\n",
       "      <td>0</td>\n",
       "      <td>0</td>\n",
       "      <td>0</td>\n",
       "      <td>0</td>\n",
       "      <td>0</td>\n",
       "      <td>0</td>\n",
       "      <td>0</td>\n",
       "      <td>1</td>\n",
       "      <td>0</td>\n",
       "      <td>0</td>\n",
       "    </tr>\n",
       "    <tr>\n",
       "      <th>2</th>\n",
       "      <td>5</td>\n",
       "      <td>26.0800</td>\n",
       "      <td>49.8100</td>\n",
       "      <td>1</td>\n",
       "      <td>8</td>\n",
       "      <td>6050</td>\n",
       "      <td>250.0</td>\n",
       "      <td>184.0</td>\n",
       "      <td>21.0</td>\n",
       "      <td>410.0</td>\n",
       "      <td>0</td>\n",
       "      <td>1</td>\n",
       "      <td>0</td>\n",
       "      <td>1</td>\n",
       "      <td>0</td>\n",
       "      <td>0</td>\n",
       "      <td>0</td>\n",
       "      <td>0</td>\n",
       "      <td>0</td>\n",
       "      <td>0</td>\n",
       "      <td>0</td>\n",
       "      <td>0</td>\n",
       "      <td>0</td>\n",
       "      <td>0</td>\n",
       "      <td>1</td>\n",
       "      <td>0</td>\n",
       "      <td>0</td>\n",
       "      <td>0</td>\n",
       "      <td>0</td>\n",
       "      <td>0</td>\n",
       "      <td>0</td>\n",
       "      <td>0</td>\n",
       "      <td>0</td>\n",
       "      <td>0</td>\n",
       "      <td>0</td>\n",
       "      <td>1</td>\n",
       "      <td>0</td>\n",
       "      <td>0</td>\n",
       "      <td>0</td>\n",
       "      <td>0</td>\n",
       "      <td>0</td>\n",
       "      <td>0</td>\n",
       "      <td>1</td>\n",
       "      <td>0</td>\n",
       "      <td>0</td>\n",
       "      <td>0</td>\n",
       "      <td>0</td>\n",
       "      <td>0</td>\n",
       "      <td>0</td>\n",
       "      <td>0</td>\n",
       "      <td>0</td>\n",
       "      <td>0</td>\n",
       "      <td>0</td>\n",
       "      <td>0</td>\n",
       "      <td>0</td>\n",
       "      <td>0</td>\n",
       "      <td>0</td>\n",
       "      <td>0</td>\n",
       "      <td>1</td>\n",
       "      <td>0</td>\n",
       "      <td>0</td>\n",
       "      <td>0</td>\n",
       "      <td>0</td>\n",
       "      <td>0</td>\n",
       "      <td>0</td>\n",
       "      <td>0</td>\n",
       "      <td>0</td>\n",
       "      <td>0</td>\n",
       "      <td>1</td>\n",
       "      <td>0</td>\n",
       "      <td>0</td>\n",
       "      <td>0</td>\n",
       "    </tr>\n",
       "    <tr>\n",
       "      <th>3</th>\n",
       "      <td>1</td>\n",
       "      <td>61.3833</td>\n",
       "      <td>1.7500</td>\n",
       "      <td>0</td>\n",
       "      <td>6</td>\n",
       "      <td>8988</td>\n",
       "      <td>425.0</td>\n",
       "      <td>300.0</td>\n",
       "      <td>22.0</td>\n",
       "      <td>750.0</td>\n",
       "      <td>0</td>\n",
       "      <td>0</td>\n",
       "      <td>0</td>\n",
       "      <td>0</td>\n",
       "      <td>1</td>\n",
       "      <td>0</td>\n",
       "      <td>0</td>\n",
       "      <td>0</td>\n",
       "      <td>0</td>\n",
       "      <td>0</td>\n",
       "      <td>0</td>\n",
       "      <td>0</td>\n",
       "      <td>0</td>\n",
       "      <td>0</td>\n",
       "      <td>0</td>\n",
       "      <td>0</td>\n",
       "      <td>0</td>\n",
       "      <td>0</td>\n",
       "      <td>1</td>\n",
       "      <td>0</td>\n",
       "      <td>0</td>\n",
       "      <td>0</td>\n",
       "      <td>0</td>\n",
       "      <td>0</td>\n",
       "      <td>0</td>\n",
       "      <td>1</td>\n",
       "      <td>0</td>\n",
       "      <td>0</td>\n",
       "      <td>0</td>\n",
       "      <td>0</td>\n",
       "      <td>0</td>\n",
       "      <td>0</td>\n",
       "      <td>1</td>\n",
       "      <td>0</td>\n",
       "      <td>0</td>\n",
       "      <td>0</td>\n",
       "      <td>0</td>\n",
       "      <td>0</td>\n",
       "      <td>0</td>\n",
       "      <td>0</td>\n",
       "      <td>0</td>\n",
       "      <td>0</td>\n",
       "      <td>0</td>\n",
       "      <td>0</td>\n",
       "      <td>0</td>\n",
       "      <td>0</td>\n",
       "      <td>0</td>\n",
       "      <td>0</td>\n",
       "      <td>0</td>\n",
       "      <td>0</td>\n",
       "      <td>1</td>\n",
       "      <td>0</td>\n",
       "      <td>0</td>\n",
       "      <td>0</td>\n",
       "      <td>0</td>\n",
       "      <td>0</td>\n",
       "      <td>0</td>\n",
       "      <td>0</td>\n",
       "      <td>1</td>\n",
       "      <td>0</td>\n",
       "      <td>0</td>\n",
       "      <td>0</td>\n",
       "    </tr>\n",
       "    <tr>\n",
       "      <th>5</th>\n",
       "      <td>3</td>\n",
       "      <td>40.1494</td>\n",
       "      <td>62.9906</td>\n",
       "      <td>1</td>\n",
       "      <td>2</td>\n",
       "      <td>5443</td>\n",
       "      <td>82.0</td>\n",
       "      <td>59.0</td>\n",
       "      <td>16.0</td>\n",
       "      <td>61.0</td>\n",
       "      <td>0</td>\n",
       "      <td>1</td>\n",
       "      <td>0</td>\n",
       "      <td>1</td>\n",
       "      <td>1</td>\n",
       "      <td>0</td>\n",
       "      <td>1</td>\n",
       "      <td>0</td>\n",
       "      <td>0</td>\n",
       "      <td>0</td>\n",
       "      <td>0</td>\n",
       "      <td>0</td>\n",
       "      <td>0</td>\n",
       "      <td>0</td>\n",
       "      <td>0</td>\n",
       "      <td>0</td>\n",
       "      <td>1</td>\n",
       "      <td>0</td>\n",
       "      <td>1</td>\n",
       "      <td>0</td>\n",
       "      <td>0</td>\n",
       "      <td>0</td>\n",
       "      <td>0</td>\n",
       "      <td>0</td>\n",
       "      <td>0</td>\n",
       "      <td>0</td>\n",
       "      <td>0</td>\n",
       "      <td>0</td>\n",
       "      <td>0</td>\n",
       "      <td>0</td>\n",
       "      <td>0</td>\n",
       "      <td>0</td>\n",
       "      <td>1</td>\n",
       "      <td>0</td>\n",
       "      <td>0</td>\n",
       "      <td>0</td>\n",
       "      <td>0</td>\n",
       "      <td>0</td>\n",
       "      <td>0</td>\n",
       "      <td>0</td>\n",
       "      <td>0</td>\n",
       "      <td>0</td>\n",
       "      <td>0</td>\n",
       "      <td>0</td>\n",
       "      <td>0</td>\n",
       "      <td>0</td>\n",
       "      <td>1</td>\n",
       "      <td>0</td>\n",
       "      <td>0</td>\n",
       "      <td>0</td>\n",
       "      <td>0</td>\n",
       "      <td>0</td>\n",
       "      <td>0</td>\n",
       "      <td>0</td>\n",
       "      <td>0</td>\n",
       "      <td>0</td>\n",
       "      <td>0</td>\n",
       "      <td>0</td>\n",
       "      <td>1</td>\n",
       "      <td>0</td>\n",
       "      <td>0</td>\n",
       "      <td>0</td>\n",
       "    </tr>\n",
       "    <tr>\n",
       "      <th>6</th>\n",
       "      <td>7</td>\n",
       "      <td>48.8521</td>\n",
       "      <td>-101.0130</td>\n",
       "      <td>1</td>\n",
       "      <td>5</td>\n",
       "      <td>3275</td>\n",
       "      <td>43.0</td>\n",
       "      <td>15.5</td>\n",
       "      <td>10.0</td>\n",
       "      <td>2.6</td>\n",
       "      <td>0</td>\n",
       "      <td>1</td>\n",
       "      <td>0</td>\n",
       "      <td>0</td>\n",
       "      <td>0</td>\n",
       "      <td>0</td>\n",
       "      <td>0</td>\n",
       "      <td>0</td>\n",
       "      <td>0</td>\n",
       "      <td>0</td>\n",
       "      <td>0</td>\n",
       "      <td>0</td>\n",
       "      <td>0</td>\n",
       "      <td>0</td>\n",
       "      <td>0</td>\n",
       "      <td>1</td>\n",
       "      <td>0</td>\n",
       "      <td>0</td>\n",
       "      <td>0</td>\n",
       "      <td>0</td>\n",
       "      <td>0</td>\n",
       "      <td>0</td>\n",
       "      <td>0</td>\n",
       "      <td>0</td>\n",
       "      <td>0</td>\n",
       "      <td>1</td>\n",
       "      <td>0</td>\n",
       "      <td>1</td>\n",
       "      <td>0</td>\n",
       "      <td>0</td>\n",
       "      <td>0</td>\n",
       "      <td>0</td>\n",
       "      <td>0</td>\n",
       "      <td>0</td>\n",
       "      <td>0</td>\n",
       "      <td>0</td>\n",
       "      <td>0</td>\n",
       "      <td>0</td>\n",
       "      <td>0</td>\n",
       "      <td>0</td>\n",
       "      <td>0</td>\n",
       "      <td>0</td>\n",
       "      <td>0</td>\n",
       "      <td>0</td>\n",
       "      <td>0</td>\n",
       "      <td>0</td>\n",
       "      <td>0</td>\n",
       "      <td>1</td>\n",
       "      <td>0</td>\n",
       "      <td>0</td>\n",
       "      <td>0</td>\n",
       "      <td>0</td>\n",
       "      <td>0</td>\n",
       "      <td>0</td>\n",
       "      <td>0</td>\n",
       "      <td>0</td>\n",
       "      <td>0</td>\n",
       "      <td>0</td>\n",
       "      <td>0</td>\n",
       "      <td>0</td>\n",
       "      <td>0</td>\n",
       "      <td>1</td>\n",
       "    </tr>\n",
       "  </tbody>\n",
       "</table>\n",
       "</div>"
      ],
      "text/plain": [
       "   Region  Latitude  Longitude  Onshore/Offshore  Reservoir status  Depth  \\\n",
       "0       3   51.0000    44.8042                 1                 2   1870   \n",
       "2       5   26.0800    49.8100                 1                 8   6050   \n",
       "3       1   61.3833     1.7500                 0                 6   8988   \n",
       "5       3   40.1494    62.9906                 1                 2   5443   \n",
       "6       7   48.8521  -101.0130                 1                 5   3275   \n",
       "\n",
       "   Thickness (gross average ft)  Thickness (net pay average ft)  Porosity  \\\n",
       "0                         262.0                            33.0      24.0   \n",
       "2                         250.0                           184.0      21.0   \n",
       "3                         425.0                           300.0      22.0   \n",
       "5                          82.0                            59.0      16.0   \n",
       "6                          43.0                            15.5      10.0   \n",
       "\n",
       "   Permeability  Tect_BASEMENT-I  Tect_COMPRESSION  Tect_EROSION  \\\n",
       "0          30.0                0                 1             0   \n",
       "2         410.0                0                 1             0   \n",
       "3         750.0                0                 0             0   \n",
       "5          61.0                0                 1             0   \n",
       "6           2.6                0                 1             0   \n",
       "\n",
       "   Tect_EVAPORITE  Tect_EXTENSION  Tect_GRAVITY  Tect_INVERSION  Tect_LINKED  \\\n",
       "0               1               0             0               0            0   \n",
       "2               1               0             0               0            0   \n",
       "3               0               1             0               0            0   \n",
       "5               1               1             0               1            0   \n",
       "6               0               0             0               0            0   \n",
       "\n",
       "   Tect_SHALE  Tect_STRIKE-SLIP  Tect_SYNSEDIMENTATION  Tect_TRANSPRESSION  \\\n",
       "0           0                 0                      0                   0   \n",
       "2           0                 0                      0                   0   \n",
       "3           0                 0                      0                   0   \n",
       "5           0                 0                      0                   0   \n",
       "6           0                 0                      0                   0   \n",
       "\n",
       "   Tect_TRANSTENSION  Stru_DELTA  Stru_FORELAND  Stru_INTRACRATONIC  \\\n",
       "0                  0           0              1                   0   \n",
       "2                  0           0              1                   0   \n",
       "3                  0           0              0                   0   \n",
       "5                  0           0              0                   0   \n",
       "6                  0           0              0                   1   \n",
       "\n",
       "   Stru_INVERSION  Stru_PASSIVE MARGIN  Stru_RIFT  Stru_SALT  Stru_SUB-SALT  \\\n",
       "0               0                    0          0          0              0   \n",
       "2               0                    0          0          0              0   \n",
       "3               0                    0          1          0              0   \n",
       "5               1                    0          1          0              0   \n",
       "6               0                    0          0          0              0   \n",
       "\n",
       "   Stru_SUB-THRUST  Stru_THRUST  Stru_WRENCH  Hydrocarbon type_GAS-CONDENSATE  \\\n",
       "0                0            0            0                                0   \n",
       "2                0            0            0                                0   \n",
       "3                0            0            0                                0   \n",
       "5                0            0            0                                0   \n",
       "6                0            0            0                                0   \n",
       "\n",
       "   Hydrocarbon type_OIL  Reservoir period_CAMBRIAN-ORDOVICIAN  \\\n",
       "0                     1                                     0   \n",
       "2                     1                                     0   \n",
       "3                     1                                     0   \n",
       "5                     0                                     0   \n",
       "6                     1                                     0   \n",
       "\n",
       "   Reservoir period_CARBONIFEROUS  Reservoir period_CARBONIFEROUS-PERMIAN  \\\n",
       "0                               1                                       0   \n",
       "2                               0                                       0   \n",
       "3                               0                                       0   \n",
       "5                               0                                       0   \n",
       "6                               1                                       0   \n",
       "\n",
       "   Reservoir period_CRETACEOUS  Reservoir period_CRETACEOUS-PALEOGENE  \\\n",
       "0                            0                                      0   \n",
       "2                            0                                      0   \n",
       "3                            0                                      0   \n",
       "5                            0                                      0   \n",
       "6                            0                                      0   \n",
       "\n",
       "   Reservoir period_DEVONIAN  Reservoir period_JURASSIC  \\\n",
       "0                          0                          0   \n",
       "2                          0                          1   \n",
       "3                          0                          1   \n",
       "5                          0                          1   \n",
       "6                          0                          0   \n",
       "\n",
       "   Reservoir period_JURASSIC-CRETACEOUS  Reservoir period_MESOZOIC  \\\n",
       "0                                     0                          0   \n",
       "2                                     0                          0   \n",
       "3                                     0                          0   \n",
       "5                                     0                          0   \n",
       "6                                     0                          0   \n",
       "\n",
       "   Reservoir period_NEOGENE  Reservoir period_ORDOVICIAN  \\\n",
       "0                         0                            0   \n",
       "2                         0                            0   \n",
       "3                         0                            0   \n",
       "5                         0                            0   \n",
       "6                         0                            0   \n",
       "\n",
       "   Reservoir period_PALEOGENE  Reservoir period_PALEOGENE-NEOGENE  \\\n",
       "0                           0                                   0   \n",
       "2                           0                                   0   \n",
       "3                           0                                   0   \n",
       "5                           0                                   0   \n",
       "6                           0                                   0   \n",
       "\n",
       "   Reservoir period_PALEOZOIC  Reservoir period_PERMIAN  \\\n",
       "0                           0                         0   \n",
       "2                           0                         0   \n",
       "3                           0                         0   \n",
       "5                           0                         0   \n",
       "6                           0                         0   \n",
       "\n",
       "   Reservoir period_PROTEROZOIC  Reservoir period_TRIASSIC  \\\n",
       "0                             0                          0   \n",
       "2                             0                          0   \n",
       "3                             0                          0   \n",
       "5                             0                          0   \n",
       "6                             0                          0   \n",
       "\n",
       "   Reservoir period_TRIASSIC-JURASSIC  Lithology_CHALKY LIMESTONE  \\\n",
       "0                                   0                           0   \n",
       "2                                   0                           0   \n",
       "3                                   0                           0   \n",
       "5                                   0                           0   \n",
       "6                                   0                           0   \n",
       "\n",
       "   Lithology_CONGLOMERATE  Lithology_DOLOMITE  Lithology_DOLOMITIC LIMESTONE  \\\n",
       "0                       0                   0                              0   \n",
       "2                       0                   0                              0   \n",
       "3                       0                   0                              0   \n",
       "5                       0                   1                              0   \n",
       "6                       0                   0                              1   \n",
       "\n",
       "   Lithology_LIMESTONE  Lithology_LOW-RESISTIVITY SANDSTONE  \\\n",
       "0                    0                                    0   \n",
       "2                    1                                    0   \n",
       "3                    0                                    0   \n",
       "5                    0                                    0   \n",
       "6                    0                                    0   \n",
       "\n",
       "   Lithology_SANDSTONE  Lithology_SHALE  Lithology_SHALY SANDSTONE  \\\n",
       "0                    1                0                          0   \n",
       "2                    0                0                          0   \n",
       "3                    1                0                          0   \n",
       "5                    0                0                          0   \n",
       "6                    0                0                          0   \n",
       "\n",
       "   Lithology_SILTSTONE  Lithology_THINLY-BEDDED SANDSTONE  \\\n",
       "0                    0                                  0   \n",
       "2                    0                                  0   \n",
       "3                    0                                  0   \n",
       "5                    0                                  0   \n",
       "6                    0                                  0   \n",
       "\n",
       "   Lithology_VOLCANICS  Country_CHINA  Country_Missing  Country_OTHER  \\\n",
       "0                    0              0                0              0   \n",
       "2                    0              0                0              1   \n",
       "3                    0              0                0              1   \n",
       "5                    0              0                0              1   \n",
       "6                    0              0                0              0   \n",
       "\n",
       "   Country_RUSSIA  Country_UK  Country_USA  \n",
       "0               1           0            0  \n",
       "2               0           0            0  \n",
       "3               0           0            0  \n",
       "5               0           0            0  \n",
       "6               0           0            1  "
      ]
     },
     "execution_count": 1523,
     "metadata": {},
     "output_type": "execute_result"
    }
   ],
   "source": [
    "train.head()"
   ]
  },
  {
   "cell_type": "code",
   "execution_count": 1524,
   "metadata": {},
   "outputs": [
    {
     "data": {
      "text/plain": [
       "Region                int32\n",
       "Latitude            float64\n",
       "Longitude           float64\n",
       "Onshore/Offshore      int32\n",
       "Reservoir status      int32\n",
       "                     ...   \n",
       "Country_Missing       uint8\n",
       "Country_OTHER         uint8\n",
       "Country_RUSSIA        uint8\n",
       "Country_UK            uint8\n",
       "Country_USA           uint8\n",
       "Length: 72, dtype: object"
      ]
     },
     "execution_count": 1524,
     "metadata": {},
     "output_type": "execute_result"
    }
   ],
   "source": [
    "pd.set_option('display.max_columns', None)\n",
    "train.dtypes"
   ]
  },
  {
   "cell_type": "code",
   "execution_count": 1525,
   "metadata": {},
   "outputs": [],
   "source": [
    "train = train.astype('float')"
   ]
  },
  {
   "cell_type": "code",
   "execution_count": 1526,
   "metadata": {},
   "outputs": [],
   "source": [
    "train = train[train['Onshore/Offshore'] != 2]"
   ]
  },
  {
   "cell_type": "code",
   "execution_count": 1527,
   "metadata": {},
   "outputs": [
    {
     "data": {
      "text/plain": [
       "array([1., 0.])"
      ]
     },
     "execution_count": 1527,
     "metadata": {},
     "output_type": "execute_result"
    }
   ],
   "source": [
    "train['Onshore/Offshore'].unique()"
   ]
  },
  {
   "cell_type": "markdown",
   "metadata": {
    "id": "vXUKs8b8gdZ5"
   },
   "source": [
    "## Обучение модели"
   ]
  },
  {
   "cell_type": "code",
   "execution_count": 1528,
   "metadata": {
    "id": "vBwR_EIsxOJh"
   },
   "outputs": [],
   "source": [
    "X = train.drop(columns=['Onshore/Offshore'])\n",
    "y = train['Onshore/Offshore']"
   ]
  },
  {
   "cell_type": "code",
   "execution_count": 1529,
   "metadata": {},
   "outputs": [
    {
     "data": {
      "text/plain": [
       "array([ 7, 12, 17, 22, 27, 32, 37, 42, 47, 52])"
      ]
     },
     "execution_count": 1529,
     "metadata": {},
     "output_type": "execute_result"
    }
   ],
   "source": [
    "np.arange(7, 55, 5)"
   ]
  },
  {
   "cell_type": "code",
   "execution_count": 1530,
   "metadata": {
    "id": "OOVySuwAIFK0"
   },
   "outputs": [
    {
     "name": "stdout",
     "output_type": "stream",
     "text": [
      "Wall time: 8.03 s\n"
     ]
    },
    {
     "data": {
      "text/plain": [
       "GridSearchCV(cv=5, estimator=RandomForestClassifier(n_jobs=-1), n_jobs=-1,\n",
       "             param_grid={'max_depth': [7, 11, 15, 33],\n",
       "                         'min_samples_leaf': [0.1, 2, 3, 4],\n",
       "                         'min_samples_split': [0.1, 2, 3, 4, 6],\n",
       "                         'n_estimators': [7, 14, 17, 45]})"
      ]
     },
     "execution_count": 1530,
     "metadata": {},
     "output_type": "execute_result"
    }
   ],
   "source": [
    "%%time\n",
    "\n",
    "from sklearn.ensemble import RandomForestClassifier\n",
    "from sklearn.model_selection import GridSearchCV\n",
    "\n",
    "rfc = RandomForestClassifier(n_jobs = -1)\n",
    "param_grid = { \n",
    "    'n_estimators': [7, 14, 17, 45], #np.arange(7, 20, 5),\n",
    "    'max_depth': [7, 11, 15, 33], #np.arange(3, 31, 7),\n",
    "    'min_samples_split' : [0.1, 2, 3, 4, 6],\n",
    "    'min_samples_leaf' : [0.1, 2, 3, 4],\n",
    "}\n",
    "\n",
    "CV = GridSearchCV(estimator=rfc, param_grid=param_grid, cv= 5, n_jobs = -1)\n",
    "\n",
    "CV.fit(X, y)"
   ]
  },
  {
   "cell_type": "code",
   "execution_count": 1531,
   "metadata": {},
   "outputs": [
    {
     "data": {
      "text/plain": [
       "RandomForestClassifier(max_depth=7, min_samples_leaf=3, min_samples_split=6,\n",
       "                       n_estimators=17, n_jobs=-1)"
      ]
     },
     "execution_count": 1531,
     "metadata": {},
     "output_type": "execute_result"
    }
   ],
   "source": [
    "est = CV.best_estimator_\n",
    "est"
   ]
  },
  {
   "cell_type": "code",
   "execution_count": 1532,
   "metadata": {},
   "outputs": [
    {
     "data": {
      "text/plain": [
       "0.9034574468085106"
      ]
     },
     "execution_count": 1532,
     "metadata": {},
     "output_type": "execute_result"
    }
   ],
   "source": [
    "CV.best_score_"
   ]
  },
  {
   "cell_type": "markdown",
   "metadata": {},
   "source": [
    "# {'OFFSHORE': 0, 'ONSHORE': 1, 'ONSHORE-OFFSHORE': 2}"
   ]
  },
  {
   "cell_type": "code",
   "execution_count": 1533,
   "metadata": {},
   "outputs": [],
   "source": [
    "test = test.reindex(columns = X.columns, fill_value=0)"
   ]
  },
  {
   "cell_type": "code",
   "execution_count": 1534,
   "metadata": {
    "scrolled": true
   },
   "outputs": [],
   "source": [
    "y_pred_test = est.predict(test)"
   ]
  },
  {
   "cell_type": "code",
   "execution_count": 1538,
   "metadata": {},
   "outputs": [],
   "source": [
    "y_pred_test = pd.DataFrame(np.array([mapping[int(x)] for x in y_pred_test]), columns=['Onshore/Offshore'])\n",
    "y_pred_test = y_pred_test.reset_index()\n",
    "y_pred_test.to_csv(\"submission.csv\", index=False)"
   ]
  }
 ],
 "metadata": {
  "colab": {
   "collapsed_sections": [
    "pBCBGDR3nZdL"
   ],
   "name": "Samsung. Baseline. Разработка нефтегазовых месторождений.ipynb",
   "provenance": []
  },
  "hide_input": false,
  "kernelspec": {
   "display_name": "Python 3 (ipykernel)",
   "language": "python",
   "name": "python3"
  },
  "language_info": {
   "codemirror_mode": {
    "name": "ipython",
    "version": 3
   },
   "file_extension": ".py",
   "mimetype": "text/x-python",
   "name": "python",
   "nbconvert_exporter": "python",
   "pygments_lexer": "ipython3",
   "version": "3.9.7"
  }
 },
 "nbformat": 4,
 "nbformat_minor": 1
}
